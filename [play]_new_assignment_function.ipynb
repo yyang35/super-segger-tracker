{
 "cells": [
  {
   "cell_type": "code",
   "execution_count": null,
   "metadata": {},
   "outputs": [],
   "source": [
    "import numpy as np\n",
    "import cv2\n",
    "from shapely.geometry import Polygon\n",
    "\n",
    "# Create a simple binary mask as an example (Replace this with your mask)\n",
    "mask = np.zeros((100, 100), dtype=np.uint8)\n",
    "mask[30:70, 30:70] = 255\n",
    "\n",
    "# Find contours in the binary mask\n",
    "contours, _ = cv2.findContours(mask, cv2.RETR_EXTERNAL, cv2.CHAIN_APPROX_SIMPLE)\n",
    "\n",
    "# Convert contours to shapely polygons\n",
    "polygons = [Polygon(contour.reshape(-1, 2)) for contour in contours]\n",
    "\n",
    "print(polygons)\n"
   ]
  },
  {
   "cell_type": "code",
   "execution_count": null,
   "metadata": {},
   "outputs": [],
   "source": [
    "def make_cell_info_reference(labels_mask):\n",
    "    \n",
    "    label_info_df = pd.DataFrame(columns = ['label', 'x_mean', 'y_mean', 'area'])\n",
    "    regs_label = labels_mask\n",
    "\n",
    "    for i in range(1,np.max(regs_label)+1):\n",
    "        row_indices, col_indices = np.where(regs_label == i)\n",
    "        if len(row_indices) > 0:\n",
    "            new_row = {'label': i, 'x_mean': np.average(col_indices), 'y_mean': np.average(row_indices), 'area': len(row_indices)}\n",
    "            label_info_df.loc[len(label_info_df)] = new_row\n",
    "\n",
    "    return label_info_df"
   ]
  },
  {
   "cell_type": "code",
   "execution_count": null,
   "metadata": {},
   "outputs": [],
   "source": [
    "def get_manuel_reference_mask_info():\n",
    "    foldername = '/Users/sherryyang/Documents/wiggins-lab/data/0820/xy0/phase/*_seg.npy'\n",
    "    npzFiles = glob.glob(foldername)\n",
    "    cell_info_dict = {}\n",
    "\n",
    "    for f in npzFiles:\n",
    "        pattern = r'_t(\\d+)'\n",
    "        match = re.search(pattern, f)\n",
    "\n",
    "        if match:\n",
    "            t_value = match.group(1)\n",
    "            frame_index = 't' + t_value\n",
    "        else:\n",
    "            raise ValueError('No time index on filename.')\n",
    "        \n",
    "        dat = np.load(f, allow_pickle=True).item()\n",
    "        regs_label = dat['masks']\n",
    "        cell_info_dict[frame_index] = make_cell_info_reference(regs_label)\n",
    "        \n",
    "    return cell_info_dict"
   ]
  },
  {
   "cell_type": "code",
   "execution_count": null,
   "metadata": {},
   "outputs": [],
   "source": [
    "import numpy as np\n",
    "import cv2\n",
    "from shapely.geometry import Polygon\n",
    "\n",
    "# Create a simple binary mask as an example (Replace this with your mask)\n",
    "mask = np.zeros((100, 100), dtype=np.uint8)\n",
    "mask[30:70, 30:70] = 255\n",
    "\n",
    "# Find contours in the binary mask\n",
    "contours, _ = cv2.findContours(mask, cv2.RETR_EXTERNAL, cv2.CHAIN_APPROX_SIMPLE)\n",
    "\n",
    "# Convert contours to shapely polygons\n",
    "polygons = [Polygon(contour.reshape(-1, 2)) for contour in contours]\n",
    "\n",
    "print(polygons)\n"
   ]
  }
 ],
 "metadata": {
  "language_info": {
   "name": "python"
  },
  "orig_nbformat": 4
 },
 "nbformat": 4,
 "nbformat_minor": 2
}
