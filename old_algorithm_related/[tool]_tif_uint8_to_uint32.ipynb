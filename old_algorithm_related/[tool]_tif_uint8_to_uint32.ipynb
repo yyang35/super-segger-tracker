{
 "cells": [
  {
   "cell_type": "code",
   "execution_count": 3,
   "id": "052826d9",
   "metadata": {},
   "outputs": [],
   "source": [
    "from cellpose_omni import models, core, utils\n",
    "from tifffile import imwrite, imread\n",
    "from scipy.io import savemat\n",
    "import numpy as np\n",
    "import glob\n",
    "import os\n",
    "\n",
    "def convert_file(filename):\n",
    "    imgs = imread(filename)\n",
    "    cropmasknew = np.uint32(imgs) #convert to int32 for napari\n",
    "    target_filename = filename.replace('masks','newMasks')\n",
    "    target_filename = target_filename.replace('.png','_uint32.png')\n",
    "    imwrite(target_filename,cropmasknew,dtype=cropmasknew.dtype)"
   ]
  },
  {
   "cell_type": "code",
   "execution_count": null,
   "id": "04d348dd",
   "metadata": {},
   "outputs": [],
   "source": [
    "def convert_file_to8(filename):\n",
    "    imgs = imread(filename)\n",
    "    cropmasknew = np.uint8(imgs) #convert to int32 for napari\n",
    "    target_filename = filename.replace('manually_fixed','manually_fixed8')\n",
    "    imwrite(target_filename,cropmasknew,dtype=cropmasknew.dtype)"
   ]
  },
  {
   "cell_type": "code",
   "execution_count": null,
   "id": "08d94468",
   "metadata": {},
   "outputs": [],
   "source": [
    "npzFiles = glob.glob(\"/Users/sherryyang/wigginsLab/data/0709/xy0/masks/*.png\")\n",
    "for f in npzFiles:\n",
    "    convert_file(f)"
   ]
  },
  {
   "cell_type": "code",
   "execution_count": 4,
   "id": "f5a34dd2",
   "metadata": {},
   "outputs": [],
   "source": [
    "npzFiles = glob.glob(\"/Users/sherryyang/wigginsLab/data/manually_fixed/*.tif\")\n",
    "for f in npzFiles:\n",
    "    convert_file_to8(f)"
   ]
  },
  {
   "cell_type": "code",
   "execution_count": null,
   "id": "9fb19609",
   "metadata": {},
   "outputs": [],
   "source": [
    "convert_file('/Users/sherryyang/wigginsLab/data/0709/xy0/masks/211121_37C_10_1176_HU_timelapse002_prob211203_HU_t00037xy0c1_cp_masks.png')"
   ]
  },
  {
   "cell_type": "code",
   "execution_count": null,
   "id": "8f24b8a3",
   "metadata": {},
   "outputs": [],
   "source": [
    "from scipy.io import savemat\n",
    "import numpy as np\n",
    "import glob\n",
    "import os\n",
    "\n",
    "npzFiles = glob.glob(\"/Users/sherryyang/wigginsLab/data/manually_fixed/*.tif\")\n",
    "for filename in npzFiles:\n",
    "    imgs = imread(filename)\n",
    "    \n",
    "    dat = np.load(f, allow_pickle=True).item() \n",
    "    \n",
    "    fm = os.path.splitext(f)[0]+'.mat'\n",
    "    d = np.load(f, allow_pickle=True).item()\n",
    "    savemat(fm, d)\n",
    "    print('generated ', fm, 'from', f)"
   ]
  },
  {
   "cell_type": "code",
   "execution_count": null,
   "id": "86d1302c",
   "metadata": {},
   "outputs": [],
   "source": [
    "import glob\n",
    "import os\n",
    "\n",
    "# Paths to your directories\n",
    "tif_directory = \"/Users/sherryyang/wigginsLab/data/manually_fixed/\"\n",
    "npy_directory = \"/Users/sherryyang/wigginsLab/data/0814/xy0/phase/\"\n",
    "\n",
    "\n",
    "\n",
    "# Get a list of TIFF and NPY files\n",
    "tif_files = glob.glob(os.path.join(tif_directory, \"*.tif\"))\n",
    "npy_files = glob.glob(os.path.join(npy_directory, \"*xy0c1_seg.npy\"))\n",
    "\n",
    "tif_files = sorted(tif_files)\n",
    "\n",
    "# Create a dictionary to store the matched files\n",
    "matched_files = {}\n",
    "\n",
    "# Iterate through TIFF files\n",
    "for tif_file in tif_files:\n",
    "    t_value = os.path.splitext(os.path.basename(tif_file))[0]  # Extract the \"t\" value\n",
    "    matching_npy_file = [npy_file for npy_file in npy_files if t_value in npy_file]\n",
    "    \n",
    "    if matching_npy_file:\n",
    "        matched_files[tif_file] = matching_npy_file[0]\n",
    "\n",
    "# Now you have a dictionary with matching TIFF and NPY files\n",
    "for tif_file, npy_file in matched_files.items():\n",
    "    print(\"TIFF:\", tif_file)\n",
    "    print(\"NPY:\", npy_file)\n",
    "\n"
   ]
  },
  {
   "cell_type": "code",
   "execution_count": null,
   "id": "2ca7c6ce",
   "metadata": {},
   "outputs": [],
   "source": [
    "for tif_file, npy_file in matched_files.items():\n",
    "    imgs = imread(tif_file)\n",
    "    dat = np.load(npy_file, allow_pickle=True).item() \n",
    "    t_file = npy_file.replace('_seg.npy','_cp_masks.png')\n",
    "    t_file = t_file.replace('phase','masks')\n",
    "    dat['masks'] = imgs\n",
    "    imwrite(t_file,imgs,dtype=imgs.dtype)\n",
    "    "
   ]
  },
  {
   "cell_type": "code",
   "execution_count": null,
   "id": "1028de35",
   "metadata": {},
   "outputs": [],
   "source": [
    "dat = np.load('/Users/sherryyang/wigginsLab/data/0814/xy0/phase/211121_37C_10_1176_HU_timelapse002_prob211203_HU_t00022xy0c1_seg.npy', allow_pickle=True).item() "
   ]
  },
  {
   "cell_type": "code",
   "execution_count": null,
   "id": "874f2297",
   "metadata": {},
   "outputs": [],
   "source": [
    "dat['masks']"
   ]
  },
  {
   "cell_type": "code",
   "execution_count": null,
   "id": "b99515ec",
   "metadata": {},
   "outputs": [],
   "source": [
    "import matplotlib.pyplot as plt\n",
    "plt.imshow(dat['masks'])"
   ]
  },
  {
   "cell_type": "code",
   "execution_count": null,
   "id": "6df8ab93",
   "metadata": {},
   "outputs": [],
   "source": [
    "for tif_file, npy_file in matched_files.items():\n",
    "    imgs = imread(tif_file)\n",
    "    \n",
    "    "
   ]
  },
  {
   "cell_type": "code",
   "execution_count": null,
   "id": "780aadde",
   "metadata": {},
   "outputs": [],
   "source": []
  }
 ],
 "metadata": {
  "kernelspec": {
   "display_name": "Python 3 (ipykernel)",
   "language": "python",
   "name": "python3"
  },
  "language_info": {
   "codemirror_mode": {
    "name": "ipython",
    "version": 3
   },
   "file_extension": ".py",
   "mimetype": "text/x-python",
   "name": "python",
   "nbconvert_exporter": "python",
   "pygments_lexer": "ipython3",
   "version": "3.11.4"
  }
 },
 "nbformat": 4,
 "nbformat_minor": 5
}
