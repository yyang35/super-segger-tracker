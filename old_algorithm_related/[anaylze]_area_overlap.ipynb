{
 "cells": [
  {
   "cell_type": "code",
   "execution_count": 6,
   "metadata": {},
   "outputs": [],
   "source": [
    "import pandas as pd\n",
    "import numpy as np\n",
    "import scipy.io\n",
    "import matplotlib.pyplot as plt\n",
    "from segger_tracker import SeggerTracker\n",
    "import ncolor\n",
    "import glob\n",
    "import re\n"
   ]
  },
  {
   "cell_type": "code",
   "execution_count": 4,
   "metadata": {},
   "outputs": [],
   "source": [
    "excel_path = \"/Users/sherryyang/Documents/wiggins-lab/data/manually_linked.xlsx\"\n",
    "excel_file = pd.ExcelFile(excel_path)\n",
    "sheet_names = excel_file.sheet_names"
   ]
  },
  {
   "cell_type": "code",
   "execution_count": 21,
   "metadata": {},
   "outputs": [],
   "source": [
    "pattern = r\"211121_37C_10_1176_HU_timelapse002_prob211203_HU_t0+(\\d+)xy0c1_seg.npy\"\n",
    "\n",
    "masks_set = {}\n",
    "\n",
    "npzFiles = glob.glob(\"/Users/sherryyang/Documents/wiggins-lab/data/0820/xy0/phase/*.npy\")\n",
    "for f in npzFiles:\n",
    "    match = re.search(pattern, f)\n",
    "    \n",
    "    dat = np.load(f, allow_pickle=True).item()\n",
    "    gradientsx = np.gradient(dat['flows'][-1][0])\n",
    "    gradientsy = np.gradient(dat['flows'][-1][1])\n",
    "    gradient_total = gradientsy[1] + gradientsx[0]\n",
    "\n",
    "    masks_set[f\"t{str(match.group(1))}\"] = regs_label = dat['masks']\n"
   ]
  },
  {
   "cell_type": "code",
   "execution_count": 8,
   "metadata": {},
   "outputs": [
    {
     "data": {
      "text/plain": [
       "{\"t<re.Match object; span=(60, 128), match='211121_37C_10_1176_HU_timelapse002_prob211203_HU_>\": array([[0, 0, 0, ..., 0, 0, 0],\n",
       "        [0, 0, 0, ..., 0, 0, 0],\n",
       "        [0, 0, 0, ..., 0, 0, 0],\n",
       "        ...,\n",
       "        [0, 0, 0, ..., 0, 0, 0],\n",
       "        [0, 0, 0, ..., 0, 0, 0],\n",
       "        [0, 0, 0, ..., 0, 0, 0]], dtype=int32)}"
      ]
     },
     "execution_count": 8,
     "metadata": {},
     "output_type": "execute_result"
    }
   ],
   "source": [
    "masks_set"
   ]
  },
  {
   "cell_type": "code",
   "execution_count": 89,
   "metadata": {},
   "outputs": [],
   "source": [
    "df_sets = {}\n",
    "# Normal process\n",
    "for time_sheet in sheet_names:\n",
    "    df = excel_file.parse(time_sheet)\n",
    "    df = df.astype(str)\n",
    "    df_copy = df.copy()\n",
    "\n",
    "    df['area_overlap'] = None\n",
    "    df['area_overlap_ratio'] = None\n",
    "\n",
    "    columns = df.columns\n",
    "    for index, row in df.iterrows():\n",
    "\n",
    "        if ',' in row[columns[1]] or 'x' in row[columns[1]] or 'X' in row[columns[1]] or 'x' in row[columns[0]]:\n",
    "            continue\n",
    "        else:\n",
    "            label1 = row[columns[0]]\n",
    "            label2 = row[columns[1]]\n",
    "            area_overlap = np.sum((masks_set[columns[0]] == int(label1)) * (masks_set[columns[1]] == int(label2)))\n",
    "            area_initial = np.sum(masks_set[columns[0]] == int(label1))\n",
    "            area_overlap_ratio = area_overlap / area_initial\n",
    "\n",
    "            df_copy.at[index, 'area_overlap'] = area_overlap\n",
    "            df_copy.at[index, 'area_overlap_ratio'] = area_overlap_ratio\n",
    "            df_copy.at[index, 'area_initial'] = area_initial\n",
    "    \n",
    "    df_sets[time_sheet]=df_copy"
   ]
  },
  {
   "cell_type": "code",
   "execution_count": 37,
   "metadata": {},
   "outputs": [
    {
     "data": {
      "text/plain": [
       "2972"
      ]
     },
     "execution_count": 37,
     "metadata": {},
     "output_type": "execute_result"
    }
   ],
   "source": [
    "#np.sum((masks_set['t10'] == 3) * (masks_set['t11'] == 16))\n",
    "np.sum((masks_set['t10'] == 3))"
   ]
  },
  {
   "cell_type": "code",
   "execution_count": 15,
   "metadata": {},
   "outputs": [
    {
     "data": {
      "text/plain": [
       "dict_keys([\"t<re.Match object; span=(60, 128), match='211121_37C_10_1176_HU_timelapse002_prob211203_HU_>\"])"
      ]
     },
     "execution_count": 15,
     "metadata": {},
     "output_type": "execute_result"
    }
   ],
   "source": [
    "masks_set.keys()"
   ]
  },
  {
   "cell_type": "code",
   "execution_count": 109,
   "metadata": {},
   "outputs": [
    {
     "data": {
      "text/html": [
       "<div>\n",
       "<style scoped>\n",
       "    .dataframe tbody tr th:only-of-type {\n",
       "        vertical-align: middle;\n",
       "    }\n",
       "\n",
       "    .dataframe tbody tr th {\n",
       "        vertical-align: top;\n",
       "    }\n",
       "\n",
       "    .dataframe thead th {\n",
       "        text-align: right;\n",
       "    }\n",
       "</style>\n",
       "<table border=\"1\" class=\"dataframe\">\n",
       "  <thead>\n",
       "    <tr style=\"text-align: right;\">\n",
       "      <th></th>\n",
       "      <th>t11</th>\n",
       "      <th>t12</th>\n",
       "      <th>area_overlap</th>\n",
       "      <th>area_overlap_ratio</th>\n",
       "      <th>area_initial</th>\n",
       "    </tr>\n",
       "  </thead>\n",
       "  <tbody>\n",
       "    <tr>\n",
       "      <th>0</th>\n",
       "      <td>16</td>\n",
       "      <td>33</td>\n",
       "      <td>3097.0</td>\n",
       "      <td>0.978206</td>\n",
       "      <td>3166.0</td>\n",
       "    </tr>\n",
       "    <tr>\n",
       "      <th>1</th>\n",
       "      <td>19</td>\n",
       "      <td>38,36</td>\n",
       "      <td>NaN</td>\n",
       "      <td>NaN</td>\n",
       "      <td>NaN</td>\n",
       "    </tr>\n",
       "    <tr>\n",
       "      <th>2</th>\n",
       "      <td>20</td>\n",
       "      <td>37</td>\n",
       "      <td>3921.0</td>\n",
       "      <td>0.967432</td>\n",
       "      <td>4053.0</td>\n",
       "    </tr>\n",
       "    <tr>\n",
       "      <th>3</th>\n",
       "      <td>24</td>\n",
       "      <td>41</td>\n",
       "      <td>4190.0</td>\n",
       "      <td>0.989141</td>\n",
       "      <td>4236.0</td>\n",
       "    </tr>\n",
       "    <tr>\n",
       "      <th>4</th>\n",
       "      <td>14</td>\n",
       "      <td>32</td>\n",
       "      <td>820.0</td>\n",
       "      <td>0.906077</td>\n",
       "      <td>905.0</td>\n",
       "    </tr>\n",
       "    <tr>\n",
       "      <th>5</th>\n",
       "      <td>18</td>\n",
       "      <td>35</td>\n",
       "      <td>2014.0</td>\n",
       "      <td>0.990654</td>\n",
       "      <td>2033.0</td>\n",
       "    </tr>\n",
       "    <tr>\n",
       "      <th>6</th>\n",
       "      <td>17</td>\n",
       "      <td>34</td>\n",
       "      <td>2568.0</td>\n",
       "      <td>0.984285</td>\n",
       "      <td>2609.0</td>\n",
       "    </tr>\n",
       "    <tr>\n",
       "      <th>7</th>\n",
       "      <td>21</td>\n",
       "      <td>39</td>\n",
       "      <td>2980.0</td>\n",
       "      <td>0.984148</td>\n",
       "      <td>3028.0</td>\n",
       "    </tr>\n",
       "    <tr>\n",
       "      <th>8</th>\n",
       "      <td>25</td>\n",
       "      <td>42</td>\n",
       "      <td>2208.0</td>\n",
       "      <td>0.990579</td>\n",
       "      <td>2229.0</td>\n",
       "    </tr>\n",
       "    <tr>\n",
       "      <th>9</th>\n",
       "      <td>26</td>\n",
       "      <td>43</td>\n",
       "      <td>1970.0</td>\n",
       "      <td>0.987964</td>\n",
       "      <td>1994.0</td>\n",
       "    </tr>\n",
       "    <tr>\n",
       "      <th>10</th>\n",
       "      <td>30</td>\n",
       "      <td>47</td>\n",
       "      <td>2577.0</td>\n",
       "      <td>0.986600</td>\n",
       "      <td>2612.0</td>\n",
       "    </tr>\n",
       "    <tr>\n",
       "      <th>11</th>\n",
       "      <td>37</td>\n",
       "      <td>52</td>\n",
       "      <td>3159.0</td>\n",
       "      <td>0.987805</td>\n",
       "      <td>3198.0</td>\n",
       "    </tr>\n",
       "    <tr>\n",
       "      <th>12</th>\n",
       "      <td>40</td>\n",
       "      <td>55</td>\n",
       "      <td>2960.0</td>\n",
       "      <td>0.978189</td>\n",
       "      <td>3026.0</td>\n",
       "    </tr>\n",
       "    <tr>\n",
       "      <th>13</th>\n",
       "      <td>34</td>\n",
       "      <td>51</td>\n",
       "      <td>5680.0</td>\n",
       "      <td>0.946667</td>\n",
       "      <td>6000.0</td>\n",
       "    </tr>\n",
       "    <tr>\n",
       "      <th>14</th>\n",
       "      <td>32</td>\n",
       "      <td>49</td>\n",
       "      <td>2247.0</td>\n",
       "      <td>0.944118</td>\n",
       "      <td>2380.0</td>\n",
       "    </tr>\n",
       "    <tr>\n",
       "      <th>15</th>\n",
       "      <td>28</td>\n",
       "      <td>45</td>\n",
       "      <td>7530.0</td>\n",
       "      <td>0.949080</td>\n",
       "      <td>7934.0</td>\n",
       "    </tr>\n",
       "    <tr>\n",
       "      <th>16</th>\n",
       "      <td>31</td>\n",
       "      <td>48</td>\n",
       "      <td>2332.0</td>\n",
       "      <td>0.961253</td>\n",
       "      <td>2426.0</td>\n",
       "    </tr>\n",
       "    <tr>\n",
       "      <th>17</th>\n",
       "      <td>42</td>\n",
       "      <td>57,68</td>\n",
       "      <td>NaN</td>\n",
       "      <td>NaN</td>\n",
       "      <td>NaN</td>\n",
       "    </tr>\n",
       "    <tr>\n",
       "      <th>18</th>\n",
       "      <td>41</td>\n",
       "      <td>56</td>\n",
       "      <td>1391.0</td>\n",
       "      <td>0.983734</td>\n",
       "      <td>1414.0</td>\n",
       "    </tr>\n",
       "    <tr>\n",
       "      <th>19</th>\n",
       "      <td>52</td>\n",
       "      <td>67</td>\n",
       "      <td>1720.0</td>\n",
       "      <td>0.950276</td>\n",
       "      <td>1810.0</td>\n",
       "    </tr>\n",
       "    <tr>\n",
       "      <th>20</th>\n",
       "      <td>51</td>\n",
       "      <td>66</td>\n",
       "      <td>2138.0</td>\n",
       "      <td>0.983441</td>\n",
       "      <td>2174.0</td>\n",
       "    </tr>\n",
       "    <tr>\n",
       "      <th>21</th>\n",
       "      <td>48</td>\n",
       "      <td>63</td>\n",
       "      <td>1354.0</td>\n",
       "      <td>0.952180</td>\n",
       "      <td>1422.0</td>\n",
       "    </tr>\n",
       "    <tr>\n",
       "      <th>22</th>\n",
       "      <td>54</td>\n",
       "      <td>72</td>\n",
       "      <td>665.0</td>\n",
       "      <td>0.904762</td>\n",
       "      <td>735.0</td>\n",
       "    </tr>\n",
       "    <tr>\n",
       "      <th>23</th>\n",
       "      <td>43</td>\n",
       "      <td>58</td>\n",
       "      <td>3775.0</td>\n",
       "      <td>0.945168</td>\n",
       "      <td>3994.0</td>\n",
       "    </tr>\n",
       "    <tr>\n",
       "      <th>24</th>\n",
       "      <td>39</td>\n",
       "      <td>54</td>\n",
       "      <td>2030.0</td>\n",
       "      <td>0.961174</td>\n",
       "      <td>2112.0</td>\n",
       "    </tr>\n",
       "    <tr>\n",
       "      <th>25</th>\n",
       "      <td>49</td>\n",
       "      <td>64</td>\n",
       "      <td>1987.0</td>\n",
       "      <td>0.968324</td>\n",
       "      <td>2052.0</td>\n",
       "    </tr>\n",
       "    <tr>\n",
       "      <th>26</th>\n",
       "      <td>44</td>\n",
       "      <td>59</td>\n",
       "      <td>3628.0</td>\n",
       "      <td>0.967983</td>\n",
       "      <td>3748.0</td>\n",
       "    </tr>\n",
       "    <tr>\n",
       "      <th>27</th>\n",
       "      <td>50</td>\n",
       "      <td>65</td>\n",
       "      <td>1403.0</td>\n",
       "      <td>0.977019</td>\n",
       "      <td>1436.0</td>\n",
       "    </tr>\n",
       "    <tr>\n",
       "      <th>28</th>\n",
       "      <td>47</td>\n",
       "      <td>62</td>\n",
       "      <td>623.0</td>\n",
       "      <td>0.900289</td>\n",
       "      <td>692.0</td>\n",
       "    </tr>\n",
       "    <tr>\n",
       "      <th>29</th>\n",
       "      <td>45</td>\n",
       "      <td>60</td>\n",
       "      <td>701.0</td>\n",
       "      <td>0.980420</td>\n",
       "      <td>715.0</td>\n",
       "    </tr>\n",
       "    <tr>\n",
       "      <th>30</th>\n",
       "      <td>38</td>\n",
       "      <td>53</td>\n",
       "      <td>226.0</td>\n",
       "      <td>0.937759</td>\n",
       "      <td>241.0</td>\n",
       "    </tr>\n",
       "    <tr>\n",
       "      <th>31</th>\n",
       "      <td>46</td>\n",
       "      <td>61</td>\n",
       "      <td>405.0</td>\n",
       "      <td>0.835052</td>\n",
       "      <td>485.0</td>\n",
       "    </tr>\n",
       "    <tr>\n",
       "      <th>32</th>\n",
       "      <td>55</td>\n",
       "      <td>73</td>\n",
       "      <td>2811.0</td>\n",
       "      <td>0.979784</td>\n",
       "      <td>2869.0</td>\n",
       "    </tr>\n",
       "  </tbody>\n",
       "</table>\n",
       "</div>"
      ],
      "text/plain": [
       "   t11    t12  area_overlap  area_overlap_ratio  area_initial\n",
       "0   16     33        3097.0            0.978206        3166.0\n",
       "1   19  38,36           NaN                 NaN           NaN\n",
       "2   20     37        3921.0            0.967432        4053.0\n",
       "3   24     41        4190.0            0.989141        4236.0\n",
       "4   14     32         820.0            0.906077         905.0\n",
       "5   18     35        2014.0            0.990654        2033.0\n",
       "6   17     34        2568.0            0.984285        2609.0\n",
       "7   21     39        2980.0            0.984148        3028.0\n",
       "8   25     42        2208.0            0.990579        2229.0\n",
       "9   26     43        1970.0            0.987964        1994.0\n",
       "10  30     47        2577.0            0.986600        2612.0\n",
       "11  37     52        3159.0            0.987805        3198.0\n",
       "12  40     55        2960.0            0.978189        3026.0\n",
       "13  34     51        5680.0            0.946667        6000.0\n",
       "14  32     49        2247.0            0.944118        2380.0\n",
       "15  28     45        7530.0            0.949080        7934.0\n",
       "16  31     48        2332.0            0.961253        2426.0\n",
       "17  42  57,68           NaN                 NaN           NaN\n",
       "18  41     56        1391.0            0.983734        1414.0\n",
       "19  52     67        1720.0            0.950276        1810.0\n",
       "20  51     66        2138.0            0.983441        2174.0\n",
       "21  48     63        1354.0            0.952180        1422.0\n",
       "22  54     72         665.0            0.904762         735.0\n",
       "23  43     58        3775.0            0.945168        3994.0\n",
       "24  39     54        2030.0            0.961174        2112.0\n",
       "25  49     64        1987.0            0.968324        2052.0\n",
       "26  44     59        3628.0            0.967983        3748.0\n",
       "27  50     65        1403.0            0.977019        1436.0\n",
       "28  47     62         623.0            0.900289         692.0\n",
       "29  45     60         701.0            0.980420         715.0\n",
       "30  38     53         226.0            0.937759         241.0\n",
       "31  46     61         405.0            0.835052         485.0\n",
       "32  55     73        2811.0            0.979784        2869.0"
      ]
     },
     "execution_count": 109,
     "metadata": {},
     "output_type": "execute_result"
    }
   ],
   "source": [
    "df_sets['t11-t12']"
   ]
  },
  {
   "cell_type": "code",
   "execution_count": 76,
   "metadata": {},
   "outputs": [],
   "source": [
    "from scipy.stats import beta\n",
    "def poisson_pmf(k, lamb):\n",
    "    return poisson.pmf(k, lamb)"
   ]
  },
  {
   "cell_type": "code",
   "execution_count": 77,
   "metadata": {},
   "outputs": [],
   "source": [
    "def beta_pdf(x, a, b):\n",
    "    return beta.pdf(x, a, b)"
   ]
  },
  {
   "cell_type": "code",
   "execution_count": 87,
   "metadata": {},
   "outputs": [],
   "source": [
    "import matplotlib.pyplot as plt\n",
    "import numpy as np\n",
    "from scipy.stats import poisson\n",
    "from scipy.optimize import curve_fit\n",
    "\n",
    "def save_img(data, label):\n",
    "    bin_edges = np.arange(0, 1.01, 0.01)\n",
    "\n",
    "    list=[]\n",
    "    for i in range(1,len(bin_edges)):\n",
    "        list.append((bin_edges[i-1] + bin_edges[i] ) / 2)\n",
    "\n",
    "    y_data = np.histogram(data, bins=bin_edges)[0]\n",
    "\n",
    "    popt, _ = curve_fit(beta_pdf, list, y_data)\n",
    "    a_fit, b_fit = popt\n",
    "    y_fit = beta_pdf(bin_edges, a_fit, b_fit)\n",
    "\n",
    "    plt.hist(data, bins=bin_edges, color='blue', edgecolor='black', label='Overlap Ratio Distribution')\n",
    "    plt.plot(bin_edges, y_fit, 'r-', label='Fitted Poisson Distribution')\n",
    "\n",
    "    plt.legend()\n",
    "    plt.savefig(f\"/Users/sherryyang/Documents/wiggins-lab/data/overlap-stat/{label}.png\")\n",
    "    plt.clf()"
   ]
  },
  {
   "cell_type": "code",
   "execution_count": 88,
   "metadata": {},
   "outputs": [
    {
     "data": {
      "text/plain": [
       "<Figure size 640x480 with 0 Axes>"
      ]
     },
     "metadata": {},
     "output_type": "display_data"
    }
   ],
   "source": [
    "for key, value in df_sets.items():\n",
    "    data = value['area_overlap_ratio']\n",
    "    save_img(data, key)"
   ]
  },
  {
   "cell_type": "code",
   "execution_count": 157,
   "metadata": {},
   "outputs": [],
   "source": [
    "df = df_sets['t1-t2']\n",
    "\n",
    "def draw_area_ratio_relationship(df, label):\n",
    "    df= df.dropna()\n",
    "\n",
    "    area_initial = df['area_initial']\n",
    "    area_overlap_ratio = df['area_overlap_ratio']\n",
    "    \n",
    "    plt.scatter(area_initial, area_overlap_ratio)\n",
    "    \n",
    "\n",
    "    plt.ylim(-0.2,1.2)\n",
    "    plt.xlim(-2000,12000)\n",
    "\n",
    "    plt.axhline(0, color='green', linestyle='--', label='Vertical Line')\n",
    "    plt.axhline(1, color='green', linestyle='--', label='Vertical Line')\n",
    "    plt.axvline(0, color='green', linestyle='--', label='Vertical Line')\n",
    "\n",
    "\n",
    "    plt.xlabel(\"Original Area\")\n",
    "    plt.ylabel(\"Overlap Area Ratio\")\n",
    "\n",
    "    plt.title(label)\n",
    "    plt.savefig(f\"/Users/sherryyang/Documents/wiggins-lab/data/overlap-relationship/{label}.png\")\n",
    "    plt.clf()\n",
    "\n"
   ]
  },
  {
   "cell_type": "code",
   "execution_count": 158,
   "metadata": {},
   "outputs": [
    {
     "data": {
      "text/plain": [
       "<Figure size 640x480 with 0 Axes>"
      ]
     },
     "metadata": {},
     "output_type": "display_data"
    }
   ],
   "source": [
    "for key, value in df_sets.items():\n",
    "    draw_area_ratio_relationship(value, key)"
   ]
  },
  {
   "cell_type": "code",
   "execution_count": 137,
   "metadata": {},
   "outputs": [
    {
     "data": {
      "text/plain": [
       "<Figure size 640x480 with 0 Axes>"
      ]
     },
     "metadata": {},
     "output_type": "display_data"
    }
   ],
   "source": [
    "x = []\n",
    "y = []\n",
    "for key, value in df_sets.items():\n",
    "    df = value.dropna()\n",
    "    x.extend(np.array(df['area_initial']))\n",
    "    y.extend(np.array(df['area_overlap_ratio']))\n",
    "    draw_area_ratio_relationship(value, key)"
   ]
  },
  {
   "cell_type": "code",
   "execution_count": null,
   "metadata": {},
   "outputs": [],
   "source": [
    "\"\"\"\n",
    "    slope, intercept = np.polyfit(area_initial, area_overlap_ratio, 1)\n",
    "\n",
    "    fit_x = np.array([np.min(area_initial), np.max(area_initial)])\n",
    "    fit_y = slope * fit_x + intercept\n",
    "    plt.plot(fit_x, fit_y, color='grey')\n",
    "    \n",
    "\"\"\""
   ]
  },
  {
   "cell_type": "code",
   "execution_count": 150,
   "metadata": {},
   "outputs": [
    {
     "data": {
      "image/png": "[encoded data removed]",
      "text/plain": [
       "<Figure size 640x480 with 1 Axes>"
      ]
     },
     "metadata": {},
     "output_type": "display_data"
    }
   ],
   "source": [
    "plt.scatter(x, y, s=5, color = 'grey')\n",
    "plt.xlabel(\"Total Area\")\n",
    "plt.ylabel(\"Overlap Area Ratio\")\n",
    "plt.title('Accumlated total data')\n",
    "plt.savefig('/Users/sherryyang/Documents/wiggins-lab/data/master.png')"
   ]
  },
  {
   "cell_type": "code",
   "execution_count": 155,
   "metadata": {},
   "outputs": [
    {
     "data": {
      "text/plain": [
       "Text(0.5, 1.0, 'Accumlated total data (log x)')"
      ]
     },
     "execution_count": 155,
     "metadata": {},
     "output_type": "execute_result"
    },
    {
     "data": {
      "image/png": "[encoded data removed]",
      "text/plain": [
       "<Figure size 640x480 with 1 Axes>"
      ]
     },
     "metadata": {},
     "output_type": "display_data"
    }
   ],
   "source": [
    "plt.scatter(np.log(x), y, s=5, color = 'grey')\n",
    "plt.xlabel(\"Log of  Total Area\")\n",
    "plt.ylabel(\"Overlap Area Ratio\")\n",
    "plt.title('Accumlated total data (log x)')"
   ]
  },
  {
   "cell_type": "code",
   "execution_count": 156,
   "metadata": {},
   "outputs": [
    {
     "name": "stderr",
     "output_type": "stream",
     "text": [
      "/var/folders/tp/1bsthy355yj6qlmh5ym1996w0000gn/T/ipykernel_90989/409579463.py:1: RuntimeWarning: divide by zero encountered in log\n",
      "  plt.scatter(x, np.log(y), s=5, color = 'grey')\n"
     ]
    },
    {
     "data": {
      "text/plain": [
       "Text(0.5, 1.0, 'Accumlated total data (log y)')"
      ]
     },
     "execution_count": 156,
     "metadata": {},
     "output_type": "execute_result"
    },
    {
     "data": {
      "image/png": "[encoded data removed]",
      "text/plain": [
       "<Figure size 640x480 with 1 Axes>"
      ]
     },
     "metadata": {},
     "output_type": "display_data"
    }
   ],
   "source": [
    "plt.scatter(x, np.log(y), s=5, color = 'grey')\n",
    "plt.xlabel(\"Total Area\")\n",
    "plt.ylabel(\"Log of Overlap Area Ratio\")\n",
    "plt.title('Accumlated total data (log y)')"
   ]
  },
  {
   "cell_type": "code",
   "execution_count": null,
   "metadata": {},
   "outputs": [],
   "source": []
  }
 ],
 "metadata": {
  "kernelspec": {
   "display_name": "omnipose",
   "language": "python",
   "name": "python3"
  },
  "language_info": {
   "codemirror_mode": {
    "name": "ipython",
    "version": 3
   },
   "file_extension": ".py",
   "mimetype": "text/x-python",
   "name": "python",
   "nbconvert_exporter": "python",
   "pygments_lexer": "ipython3",
   "version": "3.10.12"
  },
  "orig_nbformat": 4
 },
 "nbformat": 4,
 "nbformat_minor": 2
}
