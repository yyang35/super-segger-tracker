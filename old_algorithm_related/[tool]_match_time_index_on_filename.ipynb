{
 "cells": [
  {
   "cell_type": "code",
   "execution_count": 4,
   "metadata": {},
   "outputs": [
    {
     "name": "stdout",
     "output_type": "stream",
     "text": [
      "t00008\n"
     ]
    }
   ],
   "source": [
    "import re\n",
    "\n",
    "# Sample filename\n",
    "filename = '211121_37C_10_1176_HU_timelapse002_prob211203_HU_t00008xy0_err.mat'\n",
    "\n",
    "# Define the regex pattern to match the \"t\" value within curly braces\n",
    "pattern = r'_t(\\d+)'\n",
    "\n",
    "# Use the regex pattern to search for the \"t\" value in the filename\n",
    "match = re.search(pattern, filename)\n",
    "\n",
    "if match:\n",
    "    # Extract the \"t\" value from the match\n",
    "    t_value = match.group(1)\n",
    "    result = 't' + t_value\n",
    "\n",
    "    # Print the extracted \"t\" value\n",
    "    print(result)\n",
    "else:\n",
    "    print(\"No match found.\")\n"
   ]
  },
  {
   "cell_type": "code",
   "execution_count": 2,
   "metadata": {},
   "outputs": [
    {
     "name": "stdout",
     "output_type": "stream",
     "text": [
      "t00008\n"
     ]
    }
   ],
   "source": [
    "import re\n",
    "\n",
    "# Sample filename\n",
    "filename = '211121_37C_10_1176_HU_timelapse002_prob211203_HU_t00008xy0_err.mat'\n",
    "\n",
    "# Define the regex pattern to match the \"t\" value within curly braces\n",
    "pattern = r'211121_37C_10_1176_HU_timelapse002_prob211203_HU_(t\\d+)xy0_err.mat'\n",
    "\n",
    "# Use the regex pattern to search for the \"t\" value in the filename\n",
    "match = re.search(pattern, filename)\n",
    "\n",
    "if match:\n",
    "    # Extract the \"t\" value from the match\n",
    "    t_value = match.group(1)\n",
    "\n",
    "    # Print the extracted \"t\" value\n",
    "    print(t_value)\n",
    "else:\n",
    "    print(\"No match found.\")"
   ]
  },
  {
   "cell_type": "code",
   "execution_count": null,
   "metadata": {},
   "outputs": [],
   "source": []
  }
 ],
 "metadata": {
  "kernelspec": {
   "display_name": "omnipose",
   "language": "python",
   "name": "python3"
  },
  "language_info": {
   "codemirror_mode": {
    "name": "ipython",
    "version": 3
   },
   "file_extension": ".py",
   "mimetype": "text/x-python",
   "name": "python",
   "nbconvert_exporter": "python",
   "pygments_lexer": "ipython3",
   "version": "3.10.12"
  },
  "orig_nbformat": 4
 },
 "nbformat": 4,
 "nbformat_minor": 2
}
