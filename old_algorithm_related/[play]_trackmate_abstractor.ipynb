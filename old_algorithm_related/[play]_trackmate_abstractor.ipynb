{
 "cells": [
  {
   "cell_type": "code",
   "execution_count": 2,
   "metadata": {},
   "outputs": [],
   "source": [
    "import numpy as np"
   ]
  },
  {
   "cell_type": "code",
   "execution_count": 36,
   "metadata": {},
   "outputs": [],
   "source": [
    "npy_path = \"/Users/sherryyang/Documents/wiggins-lab/data/0820/xy0/phase/211121_37C_10_1176_HU_timelapse002_prob211203_HU_t00010xy0c1_seg.npy\"\n",
    "dat = np.load(npy_path, allow_pickle=True).item()\n",
    "gradientsx = np.gradient(dat['flows'][-1][0])\n",
    "gradientsy = np.gradient(dat['flows'][-1][1])\n",
    "gradient_total = gradientsy[1] + gradientsx[0]\n",
    "regs_label = dat['masks']"
   ]
  },
  {
   "cell_type": "code",
   "execution_count": 37,
   "metadata": {},
   "outputs": [],
   "source": [
    "import pandas as pd\n",
    "\n",
    "label_info_df = pd.DataFrame(columns = ['label', 'x_mean', 'y_mean', 'area'])\n",
    "\n",
    "for i in range(1,np.max(regs_label)+1):\n",
    "    row_indices, col_indices = np.where(regs_label == i)\n",
    "    if len(row_indices) > 0:\n",
    "        new_row = {'label': i, 'x_mean': np.average(row_indices), 'y_mean': np.average(col_indices), 'area': len(row_indices)}\n",
    "        label_info_df.loc[len(label_info_df)] = new_row"
   ]
  },
  {
   "cell_type": "code",
   "execution_count": 38,
   "metadata": {},
   "outputs": [],
   "source": [
    "label_info_df.to_csv('t00010.csv', index=False)"
   ]
  },
  {
   "cell_type": "code",
   "execution_count": 23,
   "metadata": {},
   "outputs": [],
   "source": [
    "import json\n",
    "\n",
    "# Save to JSON file\n",
    "with open('t11.json', 'w') as file:\n",
    "    json.dump(label_info_dict, file)\n"
   ]
  },
  {
   "cell_type": "code",
   "execution_count": null,
   "metadata": {},
   "outputs": [],
   "source": [
    "# Load from JSON file\n",
    "with open('t10.json', 'r') as file:\n",
    "    loaded_data = json.load(file)\n",
    "\n",
    "print(loaded_data)"
   ]
  },
  {
   "cell_type": "code",
   "execution_count": 3,
   "metadata": {},
   "outputs": [
    {
     "ename": "KeyError",
     "evalue": "'variable_name'",
     "output_type": "error",
     "traceback": [
      "\u001b[0;31m---------------------------------------------------------------------------\u001b[0m",
      "\u001b[0;31mKeyError\u001b[0m                                  Traceback (most recent call last)",
      "\u001b[1;32m/Users/sherryyang/Projects/super-segger-tracker/[play]_trackmate_abstractor.ipynb Cell 7\u001b[0m line \u001b[0;36m8\n\u001b[1;32m      <a href='vscode-notebook-cell:/Users/sherryyang/Projects/super-segger-tracker/%5Bplay%5D_trackmate_abstractor.ipynb#W6sZmlsZQ%3D%3D?line=4'>5</a>\u001b[0m data \u001b[39m=\u001b[39m loadmat(mat_path)\n\u001b[1;32m      <a href='vscode-notebook-cell:/Users/sherryyang/Projects/super-segger-tracker/%5Bplay%5D_trackmate_abstractor.ipynb#W6sZmlsZQ%3D%3D?line=6'>7</a>\u001b[0m \u001b[39m# Access a specific variable from the MAT file\u001b[39;00m\n\u001b[0;32m----> <a href='vscode-notebook-cell:/Users/sherryyang/Projects/super-segger-tracker/%5Bplay%5D_trackmate_abstractor.ipynb#W6sZmlsZQ%3D%3D?line=7'>8</a>\u001b[0m variable_name \u001b[39m=\u001b[39m data[\u001b[39m'\u001b[39;49m\u001b[39mvariable_name\u001b[39;49m\u001b[39m'\u001b[39;49m]\n\u001b[1;32m     <a href='vscode-notebook-cell:/Users/sherryyang/Projects/super-segger-tracker/%5Bplay%5D_trackmate_abstractor.ipynb#W6sZmlsZQ%3D%3D?line=9'>10</a>\u001b[0m \u001b[39m# Now you can work with the variable as a NumPy array\u001b[39;00m\n\u001b[1;32m     <a href='vscode-notebook-cell:/Users/sherryyang/Projects/super-segger-tracker/%5Bplay%5D_trackmate_abstractor.ipynb#W6sZmlsZQ%3D%3D?line=10'>11</a>\u001b[0m \u001b[39mprint\u001b[39m(variable_name)\n",
      "\u001b[0;31mKeyError\u001b[0m: 'variable_name'"
     ]
    }
   ],
   "source": [
    "from scipy.io import loadmat\n",
    "\n",
    "mat_path = \"/Users/sherryyang/Documents/wiggins-lab/data/0820/xy0/seg/211121_37C_10_1176_HU_timelapse002_prob211203_HU_t00008xy0_err.mat\"\n",
    "# Load the MAT file\n",
    "data = loadmat(mat_path)\n",
    "\n",
    "# Access a specific variable from the MAT file\n",
    "variable_name = data['variable_name']\n",
    "\n",
    "# Now you can work with the variable as a NumPy array\n",
    "print(variable_name)\n"
   ]
  },
  {
   "cell_type": "code",
   "execution_count": 24,
   "metadata": {},
   "outputs": [],
   "source": [
    "label = data['regs']['regs_label'][0][0]\n",
    "track_result = data['regs']['map'][0][0]['f'][0][0][0]"
   ]
  },
  {
   "cell_type": "code",
   "execution_count": 39,
   "metadata": {},
   "outputs": [],
   "source": [
    "superSegger_final_tracker = {}\n",
    "for i in range(len(track_result)):\n",
    "    superSegger_final_tracker[i+1] = set(track_result[i][0])"
   ]
  },
  {
   "cell_type": "code",
   "execution_count": 44,
   "metadata": {},
   "outputs": [],
   "source": [
    "import pandas as pd\n",
    "from scipy.io import savemat\n",
    "import numpy as np\n",
    "import glob\n",
    "import os\n",
    "import re"
   ]
  },
  {
   "cell_type": "code",
   "execution_count": 46,
   "metadata": {},
   "outputs": [],
   "source": [
    "def make_cell_info_reference(labels_mask):\n",
    "    \n",
    "    label_info_df = pd.DataFrame(columns = ['label', 'x_mean', 'y_mean', 'area'])\n",
    "    regs_label = labels_mask\n",
    "\n",
    "    for i in range(1,np.max(regs_label)+1):\n",
    "        row_indices, col_indices = np.where(regs_label == i)\n",
    "        if len(row_indices) > 0:\n",
    "            new_row = {'label': i, 'x_mean': np.average(col_indices), 'y_mean': np.average(row_indices), 'area': len(row_indices)}\n",
    "            label_info_df.loc[len(label_info_df)] = new_row\n",
    "\n",
    "    return label_info_df"
   ]
  },
  {
   "cell_type": "code",
   "execution_count": 50,
   "metadata": {},
   "outputs": [],
   "source": [
    "\n",
    "npzFiles = glob.glob(\"/Users/sherryyang/Documents/wiggins-lab/data/0820/xy0/seg/*err.mat\")\n",
    "\n",
    "cell_info_dict = {}\n",
    "supperSegger_dict = {}\n",
    "\n",
    "for f in npzFiles:\n",
    "    pattern = r'_t(\\d+)'\n",
    "    match = re.search(pattern, f)\n",
    "\n",
    "    if match:\n",
    "        t_value = match.group(1)\n",
    "        frame_index = 't' + t_value\n",
    "    else:\n",
    "        raise ValueError('No time index on filename.')\n",
    "    \n",
    "    data = loadmat(f)\n",
    "    label = data['regs']['regs_label'][0][0]\n",
    "    track_result = data['regs']['map'][0][0]['f'][0][0][0]\n",
    "\n",
    "    superSegger_final_tracker = {}\n",
    "    for i in range(len(track_result)):\n",
    "        superSegger_final_tracker[i+1] = set(track_result[i][0])\n",
    "\n",
    "    cell_info_dict[frame_index] = make_cell_info_reference(label)\n",
    "    supperSegger_dict[frame_index] = superSegger_final_tracker\n"
   ]
  },
  {
   "cell_type": "code",
   "execution_count": null,
   "metadata": {},
   "outputs": [],
   "source": []
  }
 ],
 "metadata": {
  "kernelspec": {
   "display_name": "omnipose",
   "language": "python",
   "name": "python3"
  },
  "language_info": {
   "codemirror_mode": {
    "name": "ipython",
    "version": 3
   },
   "file_extension": ".py",
   "mimetype": "text/x-python",
   "name": "python",
   "nbconvert_exporter": "python",
   "pygments_lexer": "ipython3",
   "version": "3.10.12"
  },
  "orig_nbformat": 4
 },
 "nbformat": 4,
 "nbformat_minor": 2
}
