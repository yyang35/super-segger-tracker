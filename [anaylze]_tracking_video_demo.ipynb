{
 "cells": [
  {
   "cell_type": "code",
   "execution_count": null,
   "metadata": {},
   "outputs": [],
   "source": [
    " for index, row in spots_current.iterrows():\n",
    "        trackmate_x = row['POSITION_X']\n",
    "        trackmate_y = row['POSITION_Y']\n",
    "        trackmate_area = row['AREA']\n",
    "\n",
    "        candidate = df.loc[ ((abs(df['x_mean'] - trackmate_x)  + abs(df['y_mean'] - trackmate_y)) < 2 ) ]\n",
    "\n",
    "        if len(candidate) == 0 or len(candidate) > 1:\n",
    "            raise ValueError('Not 1:1 relationship')\n",
    "        else:\n",
    "            label = candidate.iloc[0]['label']\n",
    "\n",
    "        binary_mask = ((mask == label) * 255).astype(np.uint8)\n",
    "        contours, _ = cv2.findContours(binary_mask, cv2.RETR_EXTERNAL, cv2.CHAIN_APPROX_SIMPLE)\n",
    "        \n",
    "        source = tracks[tracks['SPOT_TARGET_ID'] == row['LABEL']]\n",
    "        if len(source) > 1:\n",
    "            source_cell = source.iloc[0]\n",
    "            source_spot = spots[spots['LABEL'] == source_cell['SPOT_SOURCE_ID']].loc[0]\n",
    "\n",
    "            if(len(tracks[tracks['SPOT_SOURCE_ID'] == source_cell['SPOT_SOURCE_ID']]) == 1):\n",
    "                color = (0,255,0)\n",
    "                cv2.line(tif_image, (row['POSITION_X'], row['POSITION_Y']), (source_spot['POSITION_X'], source_spot['POSITION_Y']), color)\n",
    "            else:\n",
    "                color = (0,0,255)\n",
    "                cv2.line(tif_image, (row['POSITION_X'], row['POSITION_Y']), (source_spot['POSITION_X'], source_spot['POSITION_Y']), color)\n",
    "\n",
    "        else:\n",
    "            color = (255,0,0)\n",
    "\n",
    "        cv2.drawContours(tif_image, contours, -1, color, 2)"
   ]
  }
 ],
 "metadata": {
  "kernelspec": {
   "display_name": "omnipose",
   "language": "python",
   "name": "python3"
  },
  "language_info": {
   "name": "python",
   "version": "3.10.12"
  },
  "orig_nbformat": 4
 },
 "nbformat": 4,
 "nbformat_minor": 2
}
