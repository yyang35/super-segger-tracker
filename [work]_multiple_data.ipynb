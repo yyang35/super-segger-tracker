{
 "cells": [
  {
   "cell_type": "code",
   "execution_count": 1,
   "metadata": {},
   "outputs": [],
   "source": [
    "import sys\n",
    "import os\n",
    "\n",
    "# Append the directory of the module to the Python path\n",
    "sys.path.append(\"/Users/sherryyang/Projects/super-segger-toolkit/superseggertoolkit\")"
   ]
  },
  {
   "cell_type": "code",
   "execution_count": 3,
   "metadata": {},
   "outputs": [],
   "source": [
    "%matplotlib widget"
   ]
  },
  {
   "cell_type": "code",
   "execution_count": 2,
   "metadata": {},
   "outputs": [],
   "source": [
    "from cell import Cell\n",
    "from link_composer import LinkComposer\n",
    "import cells_extractor \n",
    "import visualizer\n",
    "import link_algorithm\n",
    "from cell_event import CellEvent, CellDefine, Cell"
   ]
  },
  {
   "cell_type": "code",
   "execution_count": 3,
   "metadata": {},
   "outputs": [],
   "source": [
    "import networkx as nx\n",
    "from queue import Queue"
   ]
  },
  {
   "cell_type": "code",
   "execution_count": 4,
   "metadata": {},
   "outputs": [],
   "source": [
    "import glob as glob\n",
    "\n",
    "files = glob.glob(\"/Users/sherryyang/Documents/wiggins-lab/kevins-data/teresa_high_frame_rate/*.tif\")"
   ]
  },
  {
   "cell_type": "code",
   "execution_count": 5,
   "metadata": {},
   "outputs": [],
   "source": [
    "index = 0"
   ]
  },
  {
   "cell_type": "code",
   "execution_count": 6,
   "metadata": {},
   "outputs": [
    {
     "data": {
      "text/plain": [
       "<bound method LinkComposer.show_mask_error of <link_composer.LinkComposer object at 0x1686cbe50>>"
      ]
     },
     "execution_count": 6,
     "metadata": {},
     "output_type": "execute_result"
    }
   ],
   "source": [
    "mask_tif = \"/Users/sherryyang/Documents/wiggins-lab/kevins-data/Archive/0_masks.tif\"\n",
    "composer = LinkComposer.read_tif(mask_tif=mask_tif)\n",
    "composer.show_mask_error"
   ]
  },
  {
   "cell_type": "code",
   "execution_count": 7,
   "metadata": {},
   "outputs": [
    {
     "data": {
      "text/plain": [
       "'/Users/sherryyang/Documents/wiggins-lab/kevins-data/teresa_high_frame_rate/14_edited_labels.tif'"
      ]
     },
     "execution_count": 7,
     "metadata": {},
     "output_type": "execute_result"
    }
   ],
   "source": [
    "files[index]"
   ]
  },
  {
   "cell_type": "code",
   "execution_count": 8,
   "metadata": {},
   "outputs": [],
   "source": [
    "def cut_graph(G):\n",
    "    for u, v in G.edges():\n",
    "        G[u][v]['reliability'] = sys.maxsize\n",
    "\n",
    "    for node in G.nodes():\n",
    "        edges_with_weights = G.edges(node, data='weight')\n",
    "        sorted_edges = sorted(edges_with_weights, key=lambda x: x[2])\n",
    "        for i, (u, v, weight) in enumerate(sorted_edges):\n",
    "            G[u][v]['reliability'] = min(i, G[u][v]['reliability'])\n",
    "\n",
    "    edges_with_rel=  G.edges(data='reliability')\n",
    "    sorted_edges = sorted(edges_with_rel, key=lambda x: x[2], reverse=True)\n",
    "    index = 0\n",
    "\n",
    "    while nx.is_connected(G):\n",
    "        u,v, realiability_target = sorted_edges[index]\n",
    "        realiability = realiability_target\n",
    "        while realiability == realiability_target:\n",
    "            index += 1\n",
    "            G.remove_edge(u, v)\n",
    "            u,v, realiability_target = sorted_edges[index]\n",
    "\n",
    "    return G\n",
    "\n",
    "def link_subtree(G):\n",
    "    all_edges = set(G.edges(data='weight'))\n",
    "    test_G = nx.Graph()\n",
    "    edges = set()\n",
    "    for u, v, weight in all_edges:\n",
    "        if G.degree(u) == 1 or G.degree(v) == 1:\n",
    "            test_G.add_edge(u,v, weight = 0)\n",
    "        else:\n",
    "            edges.add((u,v, weight))\n",
    "\n",
    "    edges = list(edges)\n",
    "    test_G.add_nodes_from(G.nodes())\n",
    "\n",
    "    min_cost = sys.maxsize\n",
    "    min_tree = nx.Graph()\n",
    "\n",
    "    min_cost, min_tree = link_subtree_helper(0, edges, test_G, min_cost, min_tree)\n",
    "    return min_cost, min_tree\n",
    "\n",
    "\n",
    "\n",
    "def link_subtree_helper(index, edges, test_G, min_cost, min_tree):\n",
    "    if index == len(edges):\n",
    "        cost = sum(weight for _, _, weight in test_G.edges(data='weight'))\n",
    "        cost += len(list(nx.isolates(test_G))) * 10\n",
    "        if cost < min_cost:\n",
    "            min_cost = cost\n",
    "            min_tree = test_G.copy()\n",
    "        return min_cost, min_tree\n",
    "\n",
    "    u, v, weight = edges[index]\n",
    "\n",
    "    min_cost, min_tree = link_subtree_helper(index + 1, edges, test_G, min_cost, min_tree)\n",
    "    if (test_G.degree(u) <= 1) or (test_G.degree(v) <= 1):\n",
    "        test_G.add_edge(u, v, weight=weight)\n",
    "        min_cost, min_tree = link_subtree_helper(index + 1, edges, test_G, min_cost, min_tree)\n",
    "        test_G.remove_edge(u, v)\n",
    "\n",
    "    return min_cost, min_tree"
   ]
  },
  {
   "cell_type": "code",
   "execution_count": 9,
   "metadata": {},
   "outputs": [],
   "source": [
    "tree_set = set()\n",
    "\n",
    "for frame in range(1,composer.frame_num):\n",
    "\n",
    "    dict = composer.cells_frame_dict\n",
    "    sorted_frame = sorted(dict)\n",
    "\n",
    "    source_cells = list(dict[sorted_frame[frame-1]])\n",
    "    target_cells =  list(dict[sorted_frame[frame]])\n",
    "\n",
    "    source_cells.sort()\n",
    "    target_cells.sort()\n",
    "\n",
    "    source_dim = len(source_cells)\n",
    "    target_dim = len(target_cells)\n",
    "\n",
    "    sub_G = nx.Graph()\n",
    "    for i in range(source_dim):\n",
    "        for j in range(target_dim):\n",
    "            source_cell = source_cells[i]\n",
    "            target_cell = target_cells[j]\n",
    "\n",
    "            intersection_area = source_cell.polygon.intersection(target_cell.polygon).area\n",
    "            if intersection_area > 0:\n",
    "                union_area = source_cell.polygon.union(target_cell.polygon).area\n",
    "                weight = -1 * intersection_area /  union_area  + 1\n",
    "                sub_G.add_edge(source_cell, target_cell, weight=weight)\n",
    "\n",
    "    \n",
    "    queue = Queue()\n",
    "    queue.put(sub_G)\n",
    "\n",
    "    while not queue.empty():\n",
    "        sub_G = queue.get()\n",
    "        components = nx.connected_components(sub_G)\n",
    "        subgraphs = []\n",
    "        for nodes in components:\n",
    "            subgraph = sub_G.subgraph(nodes).copy()\n",
    "            if len(subgraph.edges()) < 20:\n",
    "                min_cost, min_tree = link_subtree(subgraph)\n",
    "                tree_set.add(min_tree)\n",
    "            else:\n",
    "                subgraph = cut_graph(subgraph)\n",
    "                queue.put(subgraph)\n",
    "\n",
    "\n",
    "G = composer.make_new_dircted_graph()\n",
    "for graph in tree_set:\n",
    "    for u, v in graph.edges():\n",
    "        if u < v:\n",
    "            G.add_edge(u,v)\n",
    "        else:\n",
    "            G.add_edge(v,u)"
   ]
  },
  {
   "cell_type": "code",
   "execution_count": 10,
   "metadata": {},
   "outputs": [],
   "source": [
    "import matplotlib.pyplot as plt\n",
    "import numpy as np\n",
    "import ipywidgets as widgets\n",
    "from mpl_interactions import zoom_factory\n",
    "from IPython.display import display\n",
    "import matplotlib\n",
    "\n",
    "plt.close('all')\n",
    "matplotlib.use('TkAgg')  # Make sure this backend is compatible with your environment\n",
    "\n",
    "frame = 0  # Initialize frame\n",
    "max_frame = composer.frame_num - 1\n",
    "\n",
    "# Assuming visualizer, composer, and G are defined\n",
    "# Create the initial plot\n",
    "plt.ioff()\n",
    "fig, ax = plt.subplots(figsize=(10, 10))\n",
    "fig.tight_layout()\n",
    "\n",
    "\n",
    "label_info_1 = visualizer.get_label_info(G)\n",
    "label_info_2 = visualizer.get_generation_label_info(G)\n",
    "labels = [label_info_1, label_info_2]\n",
    "li_index = 0\n",
    "label_info = labels[li_index]\n",
    "\n",
    "\n",
    "\n",
    "label_styles = [\"regular\", \"circled\", \"empty\"]\n",
    "ls_index = 0\n",
    "label_style = label_styles[ls_index]\n",
    "\n",
    "\n",
    "image = composer.get_single_frame_phase(frame)\n",
    "ax = visualizer.subplot_single_frame_phase(ax=ax, G=G, image=image, cells_frame_dict=composer.cells_frame_dict, label_style  = label_style, frame=frame, info=label_info, fontsize=7, figsize=(15,15), representative_point=True)\n",
    "disconnect_zoom = zoom_factory(ax)\n",
    "\n",
    "# Update plot function\n",
    "def update_plot(frame, ax, fig):\n",
    "    global label_styles, labels, li_index, ls_index\n",
    "\n",
    "    label_info = labels[li_index]\n",
    "    label_style = label_styles[ls_index]\n",
    "\n",
    "    xlim = ax.get_xlim()\n",
    "    ylim = ax.get_ylim()\n",
    "    \n",
    "    ax.clear()\n",
    "    image = composer.get_single_frame_phase(frame)\n",
    "    ax =  visualizer.subplot_single_frame_phase(ax=ax, G=G, image=image, cells_frame_dict=composer.cells_frame_dict, label_style  = label_style, frame=frame, info=label_info, fontsize=7, figsize=(15,15), representative_point=True)\n",
    "    ax.set_xlim(xlim)\n",
    "    ax.set_ylim(ylim)\n",
    "    disconnect_zoom = zoom_factory(ax)\n",
    "    fig.suptitle(f\"Frame: {frame}, use keyboard: ⬅️ ➡️ to change frame, use 'c' to circle label, use 1 to change cell tag \", color = \"blue\")\n",
    "    fig.canvas.draw_idle()\n",
    "    return ax\n",
    "\n",
    "def on_key(event):\n",
    "    global frame, ax, max_frame, fig, li_index , ls_index\n",
    "    if event.key in ['right', 'down']:\n",
    "        frame = min(frame + 1, max_frame) \n",
    "        update_plot(frame, ax, fig)\n",
    "    elif event.key in ['left', 'up']:\n",
    "        frame  = max(frame - 1, 0)\n",
    "        update_plot(frame, ax, fig)\n",
    "    elif event.key == 'c':\n",
    "        ls_index += 1\n",
    "        ls_index =  ls_index % len(label_styles)\n",
    "        update_plot(frame, ax, fig)\n",
    "    elif event.key == '1':\n",
    "        li_index += 1\n",
    "        li_index =  li_index % len(labels)\n",
    "        update_plot(frame, ax, fig)\n",
    "    \n",
    "        \n",
    "\n",
    "fig.suptitle(f\"Frame: {frame}, use keyboard: ⬅️ ➡️, use 'l' to change label, use c to change color/tag\", color = \"blue\")\n",
    "fig.canvas.mpl_connect('key_press_event', lambda event: on_key(event))\n",
    "\n",
    "# Show the plot in a separate window\n",
    "plt.show()\n"
   ]
  },
  {
   "cell_type": "code",
   "execution_count": 11,
   "metadata": {},
   "outputs": [
    {
     "name": "stdout",
     "output_type": "stream",
     "text": [
      "14 16\n",
      "14 15\n",
      "4 8\n",
      "4 9\n",
      "1 2\n",
      "1 3\n",
      "24 27\n",
      "24 28\n",
      "35 41\n",
      "35 42\n",
      "34 36\n",
      "34 35\n",
      "3 4\n",
      "3 5\n",
      "38 43\n",
      "38 44\n",
      "13 17\n",
      "13 18\n",
      "37 45\n",
      "37 46\n",
      "23 32\n",
      "23 31\n",
      "33 37\n",
      "33 38\n",
      "20 21\n",
      "20 22\n",
      "12 14\n",
      "12 13\n",
      "7 10\n",
      "7 11\n",
      "21 25\n",
      "21 26\n",
      "36 40\n",
      "36 39\n",
      "2 7\n",
      "2 6\n",
      "19 24\n",
      "19 23\n",
      "22 29\n",
      "22 30\n"
     ]
    }
   ],
   "source": [
    "for u, v in G.edges():\n",
    "    if not u.label ==  v.label:\n",
    "        print(u.label, v.label)"
   ]
  },
  {
   "cell_type": "code",
   "execution_count": 12,
   "metadata": {},
   "outputs": [],
   "source": [
    "visualizer.quick_lineage(G)"
   ]
  },
  {
   "cell_type": "code",
   "execution_count": null,
   "metadata": {},
   "outputs": [],
   "source": []
  },
  {
   "cell_type": "code",
   "execution_count": null,
   "metadata": {},
   "outputs": [],
   "source": []
  }
 ],
 "metadata": {
  "kernelspec": {
   "display_name": "omnipose",
   "language": "python",
   "name": "python3"
  },
  "language_info": {
   "codemirror_mode": {
    "name": "ipython",
    "version": 3
   },
   "file_extension": ".py",
   "mimetype": "text/x-python",
   "name": "python",
   "nbconvert_exporter": "python",
   "pygments_lexer": "ipython3",
   "version": "3.10.12"
  },
  "orig_nbformat": 4
 },
 "nbformat": 4,
 "nbformat_minor": 2
}
