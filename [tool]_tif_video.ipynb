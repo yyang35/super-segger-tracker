{
 "cells": [
  {
   "cell_type": "code",
   "execution_count": 1,
   "id": "0211e634",
   "metadata": {},
   "outputs": [
    {
     "name": "stdout",
     "output_type": "stream",
     "text": [
      "Requirement already satisfied: opencv-python in /Users/sherryyang/miniconda3/envs/omnipose/lib/python3.11/site-packages (4.8.0.74)\n",
      "Requirement already satisfied: numpy>=1.21.2 in /Users/sherryyang/miniconda3/envs/omnipose/lib/python3.11/site-packages (from opencv-python) (1.24.4)\n"
     ]
    }
   ],
   "source": [
    "!pip install opencv-python"
   ]
  },
  {
   "cell_type": "code",
   "execution_count": 2,
   "id": "2ce5a854",
   "metadata": {},
   "outputs": [],
   "source": [
    "import cv2\n",
    "import os"
   ]
  },
  {
   "cell_type": "code",
   "execution_count": 18,
   "id": "ae5145e3",
   "metadata": {},
   "outputs": [],
   "source": [
    "import cv2\n",
    "import os\n",
    "\n",
    "# Path to the folder containing your TIFF images\n",
    "images_folder = \"/Users/sherryyang/wigginsLab/data/manually_fixed8\"\n",
    "\n",
    "# Get a list of all TIFF images in the folder\n",
    "image_files = [f for f in os.listdir(images_folder) if f.lower().endswith('.tif')]\n",
    "\n",
    "# Sort the image files (if needed)\n",
    "image_files.sort()\n",
    "\n",
    "# Specify the output video file name\n",
    "output_video_filename = \"output_video.tif\"\n"
   ]
  },
  {
   "cell_type": "code",
   "execution_count": 19,
   "id": "c5f579bd",
   "metadata": {},
   "outputs": [
    {
     "name": "stderr",
     "output_type": "stream",
     "text": [
      "OpenCV: FFMPEG: tag 0x66666974/'tiff' is not supported with codec id 96 and format 'image2 / image2 sequence'\n"
     ]
    },
    {
     "name": "stdout",
     "output_type": "stream",
     "text": [
      "/Users/sherryyang/wigginsLab/data/manually_fixed8/t00001.tif\n",
      "/Users/sherryyang/wigginsLab/data/manually_fixed8/t00002.tif\n",
      "/Users/sherryyang/wigginsLab/data/manually_fixed8/t00003.tif\n",
      "/Users/sherryyang/wigginsLab/data/manually_fixed8/t00004.tif\n",
      "/Users/sherryyang/wigginsLab/data/manually_fixed8/t00005.tif\n"
     ]
    },
    {
     "name": "stderr",
     "output_type": "stream",
     "text": [
      "[image2 @ 0x7ff65c1efcc0] Cannot write more than one file with the same name. Are you missing the -update option or a sequence pattern?\n",
      "[image2 @ 0x7ff65c1efcc0] Cannot write more than one file with the same name. Are you missing the -update option or a sequence pattern?\n",
      "[image2 @ 0x7ff65c1efcc0] Cannot write more than one file with the same name. Are you missing the -update option or a sequence pattern?\n"
     ]
    },
    {
     "name": "stdout",
     "output_type": "stream",
     "text": [
      "/Users/sherryyang/wigginsLab/data/manually_fixed8/t00006.tif\n",
      "/Users/sherryyang/wigginsLab/data/manually_fixed8/t00007.tif\n",
      "/Users/sherryyang/wigginsLab/data/manually_fixed8/t00008.tif\n"
     ]
    },
    {
     "name": "stderr",
     "output_type": "stream",
     "text": [
      "[image2 @ 0x7ff65c1efcc0] Cannot write more than one file with the same name. Are you missing the -update option or a sequence pattern?\n",
      "[image2 @ 0x7ff65c1efcc0] Cannot write more than one file with the same name. Are you missing the -update option or a sequence pattern?\n",
      "[image2 @ 0x7ff65c1efcc0] Cannot write more than one file with the same name. Are you missing the -update option or a sequence pattern?\n"
     ]
    },
    {
     "name": "stdout",
     "output_type": "stream",
     "text": [
      "/Users/sherryyang/wigginsLab/data/manually_fixed8/t00009.tif\n",
      "/Users/sherryyang/wigginsLab/data/manually_fixed8/t00010.tif\n",
      "/Users/sherryyang/wigginsLab/data/manually_fixed8/t00011.tif\n"
     ]
    },
    {
     "name": "stderr",
     "output_type": "stream",
     "text": [
      "[image2 @ 0x7ff65c1efcc0] Cannot write more than one file with the same name. Are you missing the -update option or a sequence pattern?\n",
      "[image2 @ 0x7ff65c1efcc0] Cannot write more than one file with the same name. Are you missing the -update option or a sequence pattern?\n",
      "[image2 @ 0x7ff65c1efcc0] Cannot write more than one file with the same name. Are you missing the -update option or a sequence pattern?\n",
      "[image2 @ 0x7ff65c1efcc0] Cannot write more than one file with the same name. Are you missing the -update option or a sequence pattern?\n"
     ]
    },
    {
     "name": "stdout",
     "output_type": "stream",
     "text": [
      "/Users/sherryyang/wigginsLab/data/manually_fixed8/t00012.tif\n"
     ]
    },
    {
     "name": "stderr",
     "output_type": "stream",
     "text": [
      "[image2 @ 0x7ff65c1efcc0] Cannot write more than one file with the same name. Are you missing the -update option or a sequence pattern?\n"
     ]
    },
    {
     "name": "stdout",
     "output_type": "stream",
     "text": [
      "/Users/sherryyang/wigginsLab/data/manually_fixed8/t00013.tif\n",
      "/Users/sherryyang/wigginsLab/data/manually_fixed8/t00014.tif\n",
      "/Users/sherryyang/wigginsLab/data/manually_fixed8/t00015.tif\n",
      "/Users/sherryyang/wigginsLab/data/manually_fixed8/t00016.tif\n"
     ]
    },
    {
     "name": "stderr",
     "output_type": "stream",
     "text": [
      "[image2 @ 0x7ff65c1efcc0] Cannot write more than one file with the same name. Are you missing the -update option or a sequence pattern?\n",
      "[image2 @ 0x7ff65c1efcc0] Cannot write more than one file with the same name. Are you missing the -update option or a sequence pattern?\n",
      "[image2 @ 0x7ff65c1efcc0] Cannot write more than one file with the same name. Are you missing the -update option or a sequence pattern?\n"
     ]
    },
    {
     "name": "stdout",
     "output_type": "stream",
     "text": [
      "/Users/sherryyang/wigginsLab/data/manually_fixed8/t00017.tif\n",
      "/Users/sherryyang/wigginsLab/data/manually_fixed8/t00018.tif\n",
      "/Users/sherryyang/wigginsLab/data/manually_fixed8/t00019.tif\n"
     ]
    },
    {
     "name": "stderr",
     "output_type": "stream",
     "text": [
      "[image2 @ 0x7ff65c1efcc0] Cannot write more than one file with the same name. Are you missing the -update option or a sequence pattern?\n",
      "[image2 @ 0x7ff65c1efcc0] Cannot write more than one file with the same name. Are you missing the -update option or a sequence pattern?\n",
      "[image2 @ 0x7ff65c1efcc0] Cannot write more than one file with the same name. Are you missing the -update option or a sequence pattern?\n"
     ]
    },
    {
     "name": "stdout",
     "output_type": "stream",
     "text": [
      "/Users/sherryyang/wigginsLab/data/manually_fixed8/t00020.tif\n",
      "/Users/sherryyang/wigginsLab/data/manually_fixed8/t00021.tif\n",
      "/Users/sherryyang/wigginsLab/data/manually_fixed8/t00022.tif\n"
     ]
    },
    {
     "name": "stderr",
     "output_type": "stream",
     "text": [
      "[image2 @ 0x7ff65c1efcc0] Cannot write more than one file with the same name. Are you missing the -update option or a sequence pattern?\n",
      "[image2 @ 0x7ff65c1efcc0] Cannot write more than one file with the same name. Are you missing the -update option or a sequence pattern?\n",
      "[image2 @ 0x7ff65c1efcc0] Cannot write more than one file with the same name. Are you missing the -update option or a sequence pattern?\n"
     ]
    },
    {
     "name": "stdout",
     "output_type": "stream",
     "text": [
      "/Users/sherryyang/wigginsLab/data/manually_fixed8/t00023.tif\n",
      "/Users/sherryyang/wigginsLab/data/manually_fixed8/t00024.tif\n",
      "/Users/sherryyang/wigginsLab/data/manually_fixed8/t00025.tif\n"
     ]
    },
    {
     "name": "stderr",
     "output_type": "stream",
     "text": [
      "[image2 @ 0x7ff65c1efcc0] Cannot write more than one file with the same name. Are you missing the -update option or a sequence pattern?\n",
      "[image2 @ 0x7ff65c1efcc0] Cannot write more than one file with the same name. Are you missing the -update option or a sequence pattern?\n",
      "[image2 @ 0x7ff65c1efcc0] Cannot write more than one file with the same name. Are you missing the -update option or a sequence pattern?\n"
     ]
    },
    {
     "name": "stdout",
     "output_type": "stream",
     "text": [
      "/Users/sherryyang/wigginsLab/data/manually_fixed8/t00026.tif\n",
      "/Users/sherryyang/wigginsLab/data/manually_fixed8/t00027.tif\n",
      "/Users/sherryyang/wigginsLab/data/manually_fixed8/t00028.tif\n"
     ]
    },
    {
     "name": "stderr",
     "output_type": "stream",
     "text": [
      "[image2 @ 0x7ff65c1efcc0] Cannot write more than one file with the same name. Are you missing the -update option or a sequence pattern?\n",
      "[image2 @ 0x7ff65c1efcc0] Cannot write more than one file with the same name. Are you missing the -update option or a sequence pattern?\n",
      "[image2 @ 0x7ff65c1efcc0] Cannot write more than one file with the same name. Are you missing the -update option or a sequence pattern?\n"
     ]
    },
    {
     "name": "stdout",
     "output_type": "stream",
     "text": [
      "/Users/sherryyang/wigginsLab/data/manually_fixed8/t00029.tif\n",
      "/Users/sherryyang/wigginsLab/data/manually_fixed8/t00031.tif\n",
      "/Users/sherryyang/wigginsLab/data/manually_fixed8/t00032.tif\n"
     ]
    },
    {
     "name": "stderr",
     "output_type": "stream",
     "text": [
      "[image2 @ 0x7ff65c1efcc0] Cannot write more than one file with the same name. Are you missing the -update option or a sequence pattern?\n",
      "[image2 @ 0x7ff65c1efcc0] Cannot write more than one file with the same name. Are you missing the -update option or a sequence pattern?\n",
      "[image2 @ 0x7ff65c1efcc0] Cannot write more than one file with the same name. Are you missing the -update option or a sequence pattern?\n"
     ]
    },
    {
     "name": "stdout",
     "output_type": "stream",
     "text": [
      "/Users/sherryyang/wigginsLab/data/manually_fixed8/t00033.tif\n",
      "/Users/sherryyang/wigginsLab/data/manually_fixed8/t00036.tif\n",
      "/Users/sherryyang/wigginsLab/data/manually_fixed8/t00037.tif\n"
     ]
    },
    {
     "name": "stderr",
     "output_type": "stream",
     "text": [
      "[image2 @ 0x7ff65c1efcc0] Cannot write more than one file with the same name. Are you missing the -update option or a sequence pattern?\n",
      "[image2 @ 0x7ff65c1efcc0] Cannot write more than one file with the same name. Are you missing the -update option or a sequence pattern?\n",
      "[image2 @ 0x7ff65c1efcc0] Cannot write more than one file with the same name. Are you missing the -update option or a sequence pattern?\n"
     ]
    },
    {
     "name": "stdout",
     "output_type": "stream",
     "text": [
      "/Users/sherryyang/wigginsLab/data/manually_fixed8/t0007.tif\n",
      "TIFF video created successfully.\n"
     ]
    },
    {
     "name": "stderr",
     "output_type": "stream",
     "text": [
      "[image2 @ 0x7ff65c1efcc0] Cannot write more than one file with the same name. Are you missing the -update option or a sequence pattern?\n",
      "[image2 @ 0x7ff65c1efcc0] Cannot write more than one file with the same name. Are you missing the -update option or a sequence pattern?\n"
     ]
    }
   ],
   "source": [
    "# Read the first image to get dimensions\n",
    "first_image = cv2.imread(os.path.join(images_folder, image_files[0]))\n",
    "height, width, layers = first_image.shape\n",
    "\n",
    "# Define the codec and create the video writer object\n",
    "fourcc = cv2.VideoWriter_fourcc(*'tiff')\n",
    "video_writer = cv2.VideoWriter(output_video_filename, fourcc, 10, (width, height), isColor=True)\n",
    "\n",
    "# Loop through each image and add it to the video\n",
    "for image_file in image_files:\n",
    "    image_path = os.path.join(images_folder, image_file)\n",
    "    print(image_path)\n",
    "    image = cv2.imread(image_path)\n",
    "    video_writer.write(image)\n",
    "\n",
    "# Release the video writer\n",
    "video_writer.release()\n",
    "\n",
    "print(\"TIFF video created successfully.\")\n"
   ]
  },
  {
   "cell_type": "code",
   "execution_count": 7,
   "id": "46695b54",
   "metadata": {},
   "outputs": [
    {
     "data": {
      "text/plain": [
       "'t00001.tif'"
      ]
     },
     "execution_count": 7,
     "metadata": {},
     "output_type": "execute_result"
    }
   ],
   "source": [
    "image_files[0]"
   ]
  },
  {
   "cell_type": "code",
   "execution_count": 8,
   "id": "373d1159",
   "metadata": {},
   "outputs": [
    {
     "name": "stderr",
     "output_type": "stream",
     "text": [
      "[ WARN:0@104.808] global grfmt_tiff.cpp:719 readData OpenCV TIFF: TIFFRGBAImageOK: Sorry, can not handle images with 32-bit samples\n"
     ]
    }
   ],
   "source": [
    "first_image = cv2.imread(os.path.join(images_folder, image_files[0]))"
   ]
  },
  {
   "cell_type": "code",
   "execution_count": 14,
   "id": "4885e4de",
   "metadata": {},
   "outputs": [
    {
     "name": "stderr",
     "output_type": "stream",
     "text": [
      "OpenCV: FFMPEG: tag 0x66666974/'tiff' is not supported with codec id 96 and format 'image2 / image2 sequence'\n"
     ]
    },
    {
     "ename": "error",
     "evalue": "OpenCV(4.8.0) :-1: error: (-5:Bad argument) in function 'write'\n> Overload resolution failed:\n>  - image is not a numpy array, neither a scalar\n>  - Expected Ptr<cv::UMat> for argument 'image'\n",
     "output_type": "error",
     "traceback": [
      "\u001b[0;31m---------------------------------------------------------------------------\u001b[0m",
      "\u001b[0;31merror\u001b[0m                                     Traceback (most recent call last)",
      "Cell \u001b[0;32mIn[14], line 44\u001b[0m\n\u001b[1;32m     41\u001b[0m     \u001b[38;5;28;01melse\u001b[39;00m:\n\u001b[1;32m     42\u001b[0m         image \u001b[38;5;241m=\u001b[39m cv2\u001b[38;5;241m.\u001b[39mimread(image_path)\n\u001b[0;32m---> 44\u001b[0m     \u001b[43mvideo_writer\u001b[49m\u001b[38;5;241;43m.\u001b[39;49m\u001b[43mwrite\u001b[49m\u001b[43m(\u001b[49m\u001b[43mimage\u001b[49m\u001b[43m)\u001b[49m\n\u001b[1;32m     46\u001b[0m \u001b[38;5;66;03m# Release the video writer\u001b[39;00m\n\u001b[1;32m     47\u001b[0m video_writer\u001b[38;5;241m.\u001b[39mrelease()\n",
      "\u001b[0;31merror\u001b[0m: OpenCV(4.8.0) :-1: error: (-5:Bad argument) in function 'write'\n> Overload resolution failed:\n>  - image is not a numpy array, neither a scalar\n>  - Expected Ptr<cv::UMat> for argument 'image'\n"
     ]
    }
   ],
   "source": [
    "import cv2\n",
    "import os\n",
    "from PIL import Image\n",
    "\n",
    "# Path to the folder containing your TIFF images\n",
    "images_folder = \"/Users/sherryyang/wigginsLab/data/manually_fixed\"\n",
    "\n",
    "# Get a list of all TIFF images in the folder\n",
    "image_files = [f for f in os.listdir(images_folder) if f.lower().endswith('.tif')]\n",
    "\n",
    "# Sort the image files (if needed)\n",
    "image_files.sort()\n",
    "\n",
    "# Specify the output video file name\n",
    "output_video_filename = \"output_video.tif\"\n",
    "\n",
    "# Convert 32-bit images to 8-bit or 16-bit\n",
    "def convert_to_8bit(image_path):\n",
    "    img = Image.open(image_path)\n",
    "    img = img.convert(\"L\")  # Convert to grayscale\n",
    "    img = img.convert(\"I\")  # Convert to 32-bit integer\n",
    "    img = img.point(lambda p: p * (255.0 / 4294967295))  # Scale to 8-bit range\n",
    "    return img\n",
    "\n",
    "\n",
    "first_image = Image.open(os.path.join(images_folder, image_files[0]))\n",
    "width, height = first_image.size\n",
    "\n",
    "\n",
    "# Define the codec and create the video writer object\n",
    "fourcc = cv2.VideoWriter_fourcc(*'tiff')\n",
    "video_writer = cv2.VideoWriter(output_video_filename, fourcc, 10, (width, height), isColor=False)\n",
    "\n",
    "# Loop through each image and add it to the video\n",
    "for image_file in image_files:\n",
    "    image_path = os.path.join(images_folder, image_file)\n",
    "    \n",
    "    # Convert 32-bit image to 8-bit\n",
    "    if Image.open(image_path).mode == 'I':\n",
    "        image = convert_to_8bit(image_path)\n",
    "    else:\n",
    "        image = cv2.imread(image_path)\n",
    "\n",
    "    video_writer.write(image)\n",
    "\n",
    "# Release the video writer\n",
    "video_writer.release()\n",
    "\n",
    "print(\"TIFF video created successfully.\")\n"
   ]
  },
  {
   "cell_type": "code",
   "execution_count": 11,
   "id": "f6ed340c",
   "metadata": {},
   "outputs": [
    {
     "data": {
      "text/plain": [
       "'/Users/sherryyang/wigginsLab/data/manually_fixed/t00001.tif'"
      ]
     },
     "execution_count": 11,
     "metadata": {},
     "output_type": "execute_result"
    }
   ],
   "source": [
    "os.path.join(images_folder, image_files[0])"
   ]
  },
  {
   "cell_type": "code",
   "execution_count": 15,
   "id": "2218da32",
   "metadata": {},
   "outputs": [
    {
     "ename": "ValueError",
     "evalue": "Could not save to JPEG for display",
     "output_type": "error",
     "traceback": [
      "\u001b[0;31m---------------------------------------------------------------------------\u001b[0m",
      "\u001b[0;31mKeyError\u001b[0m                                  Traceback (most recent call last)",
      "File \u001b[0;32m~/miniconda3/envs/omnipose/lib/python3.11/site-packages/PIL/JpegImagePlugin.py:639\u001b[0m, in \u001b[0;36m_save\u001b[0;34m(im, fp, filename)\u001b[0m\n\u001b[1;32m    638\u001b[0m \u001b[38;5;28;01mtry\u001b[39;00m:\n\u001b[0;32m--> 639\u001b[0m     rawmode \u001b[38;5;241m=\u001b[39m \u001b[43mRAWMODE\u001b[49m\u001b[43m[\u001b[49m\u001b[43mim\u001b[49m\u001b[38;5;241;43m.\u001b[39;49m\u001b[43mmode\u001b[49m\u001b[43m]\u001b[49m\n\u001b[1;32m    640\u001b[0m \u001b[38;5;28;01mexcept\u001b[39;00m \u001b[38;5;167;01mKeyError\u001b[39;00m \u001b[38;5;28;01mas\u001b[39;00m e:\n",
      "\u001b[0;31mKeyError\u001b[0m: 'I'",
      "\nThe above exception was the direct cause of the following exception:\n",
      "\u001b[0;31mOSError\u001b[0m                                   Traceback (most recent call last)",
      "File \u001b[0;32m~/miniconda3/envs/omnipose/lib/python3.11/site-packages/PIL/Image.py:643\u001b[0m, in \u001b[0;36mImage._repr_image\u001b[0;34m(self, image_format, **kwargs)\u001b[0m\n\u001b[1;32m    642\u001b[0m \u001b[38;5;28;01mtry\u001b[39;00m:\n\u001b[0;32m--> 643\u001b[0m     \u001b[38;5;28;43mself\u001b[39;49m\u001b[38;5;241;43m.\u001b[39;49m\u001b[43msave\u001b[49m\u001b[43m(\u001b[49m\u001b[43mb\u001b[49m\u001b[43m,\u001b[49m\u001b[43m \u001b[49m\u001b[43mimage_format\u001b[49m\u001b[43m,\u001b[49m\u001b[43m \u001b[49m\u001b[38;5;241;43m*\u001b[39;49m\u001b[38;5;241;43m*\u001b[39;49m\u001b[43mkwargs\u001b[49m\u001b[43m)\u001b[49m\n\u001b[1;32m    644\u001b[0m \u001b[38;5;28;01mexcept\u001b[39;00m \u001b[38;5;167;01mException\u001b[39;00m \u001b[38;5;28;01mas\u001b[39;00m e:\n",
      "File \u001b[0;32m~/miniconda3/envs/omnipose/lib/python3.11/site-packages/PIL/Image.py:2413\u001b[0m, in \u001b[0;36mImage.save\u001b[0;34m(self, fp, format, **params)\u001b[0m\n\u001b[1;32m   2412\u001b[0m \u001b[38;5;28;01mtry\u001b[39;00m:\n\u001b[0;32m-> 2413\u001b[0m     \u001b[43msave_handler\u001b[49m\u001b[43m(\u001b[49m\u001b[38;5;28;43mself\u001b[39;49m\u001b[43m,\u001b[49m\u001b[43m \u001b[49m\u001b[43mfp\u001b[49m\u001b[43m,\u001b[49m\u001b[43m \u001b[49m\u001b[43mfilename\u001b[49m\u001b[43m)\u001b[49m\n\u001b[1;32m   2414\u001b[0m \u001b[38;5;28;01mexcept\u001b[39;00m \u001b[38;5;167;01mException\u001b[39;00m:\n",
      "File \u001b[0;32m~/miniconda3/envs/omnipose/lib/python3.11/site-packages/PIL/JpegImagePlugin.py:642\u001b[0m, in \u001b[0;36m_save\u001b[0;34m(im, fp, filename)\u001b[0m\n\u001b[1;32m    641\u001b[0m     msg \u001b[38;5;241m=\u001b[39m \u001b[38;5;124mf\u001b[39m\u001b[38;5;124m\"\u001b[39m\u001b[38;5;124mcannot write mode \u001b[39m\u001b[38;5;132;01m{\u001b[39;00mim\u001b[38;5;241m.\u001b[39mmode\u001b[38;5;132;01m}\u001b[39;00m\u001b[38;5;124m as JPEG\u001b[39m\u001b[38;5;124m\"\u001b[39m\n\u001b[0;32m--> 642\u001b[0m     \u001b[38;5;28;01mraise\u001b[39;00m \u001b[38;5;167;01mOSError\u001b[39;00m(msg) \u001b[38;5;28;01mfrom\u001b[39;00m \u001b[38;5;21;01me\u001b[39;00m\n\u001b[1;32m    644\u001b[0m info \u001b[38;5;241m=\u001b[39m im\u001b[38;5;241m.\u001b[39mencoderinfo\n",
      "\u001b[0;31mOSError\u001b[0m: cannot write mode I as JPEG",
      "\nThe above exception was the direct cause of the following exception:\n",
      "\u001b[0;31mValueError\u001b[0m                                Traceback (most recent call last)",
      "File \u001b[0;32m~/miniconda3/envs/omnipose/lib/python3.11/site-packages/IPython/core/formatters.py:344\u001b[0m, in \u001b[0;36mBaseFormatter.__call__\u001b[0;34m(self, obj)\u001b[0m\n\u001b[1;32m    342\u001b[0m     method \u001b[38;5;241m=\u001b[39m get_real_method(obj, \u001b[38;5;28mself\u001b[39m\u001b[38;5;241m.\u001b[39mprint_method)\n\u001b[1;32m    343\u001b[0m     \u001b[38;5;28;01mif\u001b[39;00m method \u001b[38;5;129;01mis\u001b[39;00m \u001b[38;5;129;01mnot\u001b[39;00m \u001b[38;5;28;01mNone\u001b[39;00m:\n\u001b[0;32m--> 344\u001b[0m         \u001b[38;5;28;01mreturn\u001b[39;00m \u001b[43mmethod\u001b[49m\u001b[43m(\u001b[49m\u001b[43m)\u001b[49m\n\u001b[1;32m    345\u001b[0m     \u001b[38;5;28;01mreturn\u001b[39;00m \u001b[38;5;28;01mNone\u001b[39;00m\n\u001b[1;32m    346\u001b[0m \u001b[38;5;28;01melse\u001b[39;00m:\n",
      "File \u001b[0;32m~/miniconda3/envs/omnipose/lib/python3.11/site-packages/PIL/Image.py:661\u001b[0m, in \u001b[0;36mImage._repr_jpeg_\u001b[0;34m(self)\u001b[0m\n\u001b[1;32m    656\u001b[0m \u001b[38;5;28;01mdef\u001b[39;00m \u001b[38;5;21m_repr_jpeg_\u001b[39m(\u001b[38;5;28mself\u001b[39m):\n\u001b[1;32m    657\u001b[0m \u001b[38;5;250m    \u001b[39m\u001b[38;5;124;03m\"\"\"iPython display hook support for JPEG format.\u001b[39;00m\n\u001b[1;32m    658\u001b[0m \n\u001b[1;32m    659\u001b[0m \u001b[38;5;124;03m    :returns: JPEG version of the image as bytes\u001b[39;00m\n\u001b[1;32m    660\u001b[0m \u001b[38;5;124;03m    \"\"\"\u001b[39;00m\n\u001b[0;32m--> 661\u001b[0m     \u001b[38;5;28;01mreturn\u001b[39;00m \u001b[38;5;28;43mself\u001b[39;49m\u001b[38;5;241;43m.\u001b[39;49m\u001b[43m_repr_image\u001b[49m\u001b[43m(\u001b[49m\u001b[38;5;124;43m\"\u001b[39;49m\u001b[38;5;124;43mJPEG\u001b[39;49m\u001b[38;5;124;43m\"\u001b[39;49m\u001b[43m)\u001b[49m\n",
      "File \u001b[0;32m~/miniconda3/envs/omnipose/lib/python3.11/site-packages/PIL/Image.py:646\u001b[0m, in \u001b[0;36mImage._repr_image\u001b[0;34m(self, image_format, **kwargs)\u001b[0m\n\u001b[1;32m    644\u001b[0m \u001b[38;5;28;01mexcept\u001b[39;00m \u001b[38;5;167;01mException\u001b[39;00m \u001b[38;5;28;01mas\u001b[39;00m e:\n\u001b[1;32m    645\u001b[0m     msg \u001b[38;5;241m=\u001b[39m \u001b[38;5;124mf\u001b[39m\u001b[38;5;124m\"\u001b[39m\u001b[38;5;124mCould not save to \u001b[39m\u001b[38;5;132;01m{\u001b[39;00mimage_format\u001b[38;5;132;01m}\u001b[39;00m\u001b[38;5;124m for display\u001b[39m\u001b[38;5;124m\"\u001b[39m\n\u001b[0;32m--> 646\u001b[0m     \u001b[38;5;28;01mraise\u001b[39;00m \u001b[38;5;167;01mValueError\u001b[39;00m(msg) \u001b[38;5;28;01mfrom\u001b[39;00m \u001b[38;5;21;01me\u001b[39;00m\n\u001b[1;32m    647\u001b[0m \u001b[38;5;28;01mreturn\u001b[39;00m b\u001b[38;5;241m.\u001b[39mgetvalue()\n",
      "\u001b[0;31mValueError\u001b[0m: Could not save to JPEG for display"
     ]
    },
    {
     "data": {
      "image/png": "[encoded data removed]",
      "text/plain": [
       "<PIL.Image.Image image mode=I size=2619x2187>"
      ]
     },
     "execution_count": 15,
     "metadata": {},
     "output_type": "execute_result"
    }
   ],
   "source": [
    "image"
   ]
  },
  {
   "cell_type": "code",
   "execution_count": 22,
   "id": "dbe4583f",
   "metadata": {},
   "outputs": [
    {
     "name": "stderr",
     "output_type": "stream",
     "text": [
      "OpenCV: FFMPEG: tag 0x44495658/'XVID' is not supported with codec id 12 and format 'mp4 / MP4 (MPEG-4 Part 14)'\n",
      "OpenCV: FFMPEG: fallback to use tag 0x7634706d/'mp4v'\n"
     ]
    },
    {
     "name": "stdout",
     "output_type": "stream",
     "text": [
      "AVI video created successfully.\n"
     ]
    }
   ],
   "source": [
    "import cv2\n",
    "import os\n",
    "from PIL import Image\n",
    "\n",
    "# Path to the folder containing your PNG images\n",
    "images_folder = \"/Users/sherryyang/wigginsLab/data/manually_fixed8\"\n",
    "\n",
    "# Get a list of all PNG images in the folder\n",
    "image_files = [f for f in os.listdir(images_folder) if f.lower().endswith('.tif')]\n",
    "\n",
    "# Sort the image files (if needed)\n",
    "image_files.sort()\n",
    "\n",
    "# Specify the output video file name\n",
    "output_video_filename = \"output_video.mp4\"\n",
    "\n",
    "# Read the dimensions of the first image\n",
    "first_image = Image.open(os.path.join(images_folder, image_files[0]))\n",
    "width, height = first_image.size\n",
    "\n",
    "# Define the codec and create the video writer object\n",
    "fourcc = cv2.VideoWriter_fourcc(*'XVID')  # Use XVID codec for AVI format\n",
    "video_writer = cv2.VideoWriter(output_video_filename, fourcc, 10, (width, height), isColor=True)\n",
    "\n",
    "# Loop through each image and add it to the video\n",
    "for image_file in image_files:\n",
    "    image_path = os.path.join(images_folder, image_file)\n",
    "    image = cv2.imread(image_path)\n",
    "    video_writer.write(image)\n",
    "\n",
    "# Release the video writer\n",
    "video_writer.release()\n",
    "\n",
    "print(\"AVI video created successfully.\")\n"
   ]
  },
  {
   "cell_type": "code",
   "execution_count": 5,
   "id": "c43b2a5b",
   "metadata": {},
   "outputs": [
    {
     "name": "stdout",
     "output_type": "stream",
     "text": [
      "TIF sequence created successfully.\n"
     ]
    }
   ],
   "source": [
    "from PIL import Image\n",
    "\n",
    "\n",
    "images_folder = \"/Users/sherryyang/Documents/wiggins-lab/data/manually_fixed\"\n",
    "tif_images = [f for f in os.listdir(images_folder) if f.lower().endswith('.tif')]\n",
    "tif_images.sort()\n",
    "\n",
    "# Output TIF \"video\" filename\n",
    "output_tif_sequence = 'output_sequence.tif'\n",
    "\n",
    "images = []\n",
    "\n",
    "for image_filename in tif_images:\n",
    "    image = Image.open(os.path.join(images_folder,image_filename))\n",
    "    images.append(image)\n",
    "\n",
    "# Save the sequence as a multi-page TIF file\n",
    "images[0].save(\n",
    "    output_tif_sequence,\n",
    "    save_all=True,\n",
    "    append_images=images[1:],\n",
    "    resolution=100.0,  # Set the resolution (DPI)\n",
    "    compression='tiff_lzw'  # Set the compression method\n",
    ")\n",
    "\n",
    "print(\"TIF sequence created successfully.\")\n"
   ]
  },
  {
   "cell_type": "code",
   "execution_count": null,
   "id": "9f8ac8ac",
   "metadata": {},
   "outputs": [],
   "source": []
  }
 ],
 "metadata": {
  "kernelspec": {
   "display_name": "Python 3 (ipykernel)",
   "language": "python",
   "name": "python3"
  },
  "language_info": {
   "codemirror_mode": {
    "name": "ipython",
    "version": 3
   },
   "file_extension": ".py",
   "mimetype": "text/x-python",
   "name": "python",
   "nbconvert_exporter": "python",
   "pygments_lexer": "ipython3",
   "version": "3.11.4"
  }
 },
 "nbformat": 4,
 "nbformat_minor": 5
}
