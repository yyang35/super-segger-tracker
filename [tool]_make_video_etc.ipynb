{
 "cells": [
  {
   "cell_type": "code",
   "execution_count": 2,
   "metadata": {},
   "outputs": [],
   "source": [
    "import os\n",
    "import cv2\n",
    "from natsort import natsorted\n",
    "\n",
    "\n",
    "def make_video(image_folder):\n",
    "    # Get a list of image filenames sorted alphabetically\n",
    "    image_filenames = natsorted(os.listdir(image_folder))\n",
    "    print(image_filenames)\n",
    "\n",
    "    # Get the dimensions of the first image (assuming all images have the same dimensions)\n",
    "    first_image = cv2.imread(os.path.join(image_folder, image_filenames[0]))\n",
    "    height, width, layers = first_image.shape\n",
    "\n",
    "    # Define the codec and create a VideoWriter object\n",
    "    video_filename = f'{image_folder}output_video.mp4'\n",
    "    fourcc = cv2.VideoWriter_fourcc(*'mp4v')  # You can change the codec as needed\n",
    "    video = cv2.VideoWriter(video_filename, fourcc, 10, (width, height))\n",
    "\n",
    "    # Loop through the sorted image filenames and add frames to the video\n",
    "    for image_filename in image_filenames:\n",
    "        image_path = os.path.join(image_folder, image_filename)\n",
    "        frame = cv2.imread(image_path)\n",
    "        video.write(frame)\n",
    "\n",
    "    # Release the VideoWriter and close the video file\n",
    "    video.release()\n",
    "\n",
    "    print(f\"Video '{video_filename}' created successfully.\")"
   ]
  },
  {
   "cell_type": "code",
   "execution_count": 15,
   "metadata": {},
   "outputs": [],
   "source": [
    "import os\n",
    "from natsort import natsorted\n",
    "import subprocess\n",
    "import imageio\n",
    "\n",
    "import os\n",
    "os.environ[\"IMAGEIO_FFMPEG_EXE\"] = \"/Users/sherryyang/anaconda3/envs/omnipose/lib/python3.10/site-packages/imageio_ffmpeg/binaries/ffmpeg-osx64-v4.4\"\n",
    "\n",
    "\n",
    "def make_video(image_folder):\n",
    "    # Get a list of image filenames sorted alphabetically\n",
    "    image_filenames = natsorted(os.listdir(image_folder))\n",
    "    print(image_filenames)\n",
    "\n",
    "    # Ensure they're TIFF images\n",
    "    tif_files = [f for f in image_filenames if f.endswith('.tif')]\n",
    "\n",
    "    # FFmpeg command to create a high-quality MP4 video\n",
    "    # This uses the libx264 codec with veryslow preset and crf 0 (lossless compression)\n",
    "    cmd = [\n",
    "        'ffmpeg',\n",
    "        '-framerate', '10',   # 10 frames per second\n",
    "        '-i', os.path.join(image_folder, '%06d.tif'),  # Assumes the images are named sequentially, like 000001.tif, 000002.tif, etc.\n",
    "        '-c:v', 'libx264',\n",
    "        '-preset', 'veryslow',\n",
    "        '-crf', '0',\n",
    "        os.path.join(image_folder, 'output_video.mp4')\n",
    "    ]\n",
    "\n",
    "    subprocess.run(cmd)\n",
    "\n",
    "    print(f\"Video created successfully in {os.path.join(image_folder, 'output_video.mp4')}\")\n",
    "\n",
    "# Example usage:\n",
    "\n"
   ]
  },
  {
   "cell_type": "code",
   "execution_count": 7,
   "metadata": {},
   "outputs": [],
   "source": [
    "from PIL import Image\n",
    "import os\n",
    "\n",
    "\n",
    "def make_merged_image():\n",
    "    # Get a list of image filenames sorted alphabetically\n",
    "    image_filenames = sorted(os.listdir(image_folder))\n",
    "\n",
    "    # Open the first image to get the size\n",
    "    base_image = Image.open(os.path.join(image_folder, image_filenames[0]))\n",
    "    width, height = base_image.size\n",
    "\n",
    "    # Create a new image with RGBA mode (allows transparency)\n",
    "    merged_image = Image.new('RGBA', (width, height), (0, 0, 0, 0))\n",
    "\n",
    "    # Loop through the sorted image filenames and paste each image on top of the merged image\n",
    "    for image_filename in image_filenames:\n",
    "        image_path = os.path.join(image_folder, image_filename)\n",
    "        image = Image.open(image_path)\n",
    "        merged_image = Image.alpha_composite(merged_image, image)\n",
    "\n",
    "    # Save the final overlapped image\n",
    "    merged_image.save('merged_image.png')\n",
    "\n",
    "    print(\"Merged image created successfully.\")"
   ]
  },
  {
   "cell_type": "code",
   "execution_count": 22,
   "metadata": {},
   "outputs": [
    {
     "name": "stdout",
     "output_type": "stream",
     "text": [
      "['t1-t2.png', 't2-t3.png', 't3-t4.png', 't4-t5.png', 't5-t6.png', 't6-t7.png', 't7-t8.png', 't8-t9.png', 't9-t10.png', 't10-t11.png', 't11-t12.png', 't12-t13.png', 't13-t14.png', 't14-t15.png', 't15-t16.png', 't16-t17.png', 't17-t18.png', 't18-t19.png', 't19-t20.png', 't20-t21.png', 't21-t22.png', 't22-t23.png', 't23-t24.png', 't24-t25.png', 't25-t26.png', 't26-t27.png', 't27-t28.png', 't28-t29.png']\n",
      "Video '/Users/sherryyang/Documents/wiggins-lab/data/overlap-relationship/output_video.mp4' created successfully.\n"
     ]
    }
   ],
   "source": [
    "make_video('/Users/sherryyang/Documents/wiggins-lab/data/overlap-relationship/')"
   ]
  },
  {
   "cell_type": "code",
   "execution_count": 6,
   "metadata": {},
   "outputs": [
    {
     "name": "stdout",
     "output_type": "stream",
     "text": [
      "['output_image_0.tif', 'output_image_1.tif', 'output_image_2.tif', 'output_image_3.tif', 'output_image_4.tif', 'output_image_5.tif', 'output_image_6.tif', 'output_image_7.tif', 'output_image_8.tif', 'output_image_9.tif', 'output_image_10.tif', 'output_image_11.tif', 'output_image_12.tif', 'output_image_13.tif', 'output_image_14.tif', 'output_image_15.tif', 'output_image_16.tif', 'output_image_17.tif', 'output_image_18.tif', 'output_image_19.tif', 'output_image_20.tif', 'output_image_21.tif', 'output_image_22.tif', 'output_image_23.tif', 'output_image_24.tif', 'output_image_25.tif', 'output_image_26.tif', 'output_image_27.tif', 'output_image_28.tif', 'output_image_29.tif', 'output_image_30.tif', 'output_image_31.tif', 'output_image_32.tif', 'output_image_33.tif', 'output_image_34.tif', 'output_image_35.tif', 'output_image_36.tif', 'output_image_37.tif', 'output_image_38.tif', 'output_image_39.tif', 'output_image_40.tif', 'output_image_41.tif', 'output_image_42.tif', 'output_image_43.tif', 'output_image_44.tif', 'output_image_45.tif', 'output_image_46.tif', 'output_image_47.tif', 'output_image_48.tif', 'output_image_49.tif', 'output_image_50.tif', 'output_image_51.tif', 'output_image_52.tif', 'output_image_53.tif', 'output_image_54.tif', 'output_image_55.tif', 'output_image_56.tif', 'output_image_57.tif', 'output_image_58.tif', 'output_image_59.tif', 'output_image_60.tif', 'output_image_61.tif', 'output_image_62.tif', 'output_image_63.tif', 'output_image_64.tif', 'output_image_65.tif', 'output_image_66.tif', 'output_image_67.tif', 'output_image_68.tif', 'output_image_69.tif', 'output_image_70.tif', 'output_image_71.tif', 'output_image_72.tif', 'output_image_73.tif', 'output_image_74.tif', 'output_image_75.tif', 'output_image_76.tif', 'output_image_77.tif', 'output_image_78.tif', 'output_image_79.tif', 'output_image_80.tif', 'output_image_81.tif', 'output_image_82.tif', 'output_image_83.tif', 'output_image_84.tif', 'output_image_85.tif', 'output_image_86.tif', 'output_image_87.tif', 'output_image_88.tif', 'output_image_89.tif', 'output_image_90.tif', 'output_image_91.tif', 'output_image_92.tif', 'output_image_93.tif', 'output_image_94.tif', 'output_image_95.tif', 'output_image_96.tif', 'output_image_97.tif', 'output_image_98.tif', 'output_image_99.tif', 'output_image_100.tif', 'output_image_101.tif', 'output_image_102.tif', 'output_image_103.tif', 'output_image_104.tif', 'output_image_105.tif', 'output_image_106.tif', 'output_image_107.tif', 'output_image_108.tif', 'output_image_109.tif', 'output_image_110.tif', 'output_image_111.tif', 'output_image_112.tif', 'output_image_113.tif', 'output_image_114.tif', 'output_image_115.tif', 'output_image_116.tif', 'output_image_117.tif', 'output_image_118.tif', 'output_image_119.tif', 'output_image_120.tif', 'output_image_121.tif', 'output_image_122.tif', 'output_image_123.tif', 'output_image_124.tif', 'output_image_125.tif', 'output_image_126.tif', 'output_image_127.tif', 'output_image_128.tif', 'output_image_129.tif', 'output_image_130.tif', 'output_image_131.tif', 'output_image_132.tif', 'output_image_133.tif', 'output_image_134.tif', 'output_image_135.tif', 'output_image_136.tif', 'output_image_137.tif']\n",
      "Video './output/output_video.mp4' created successfully.\n"
     ]
    }
   ],
   "source": [
    "make_video('./output/')"
   ]
  },
  {
   "cell_type": "code",
   "execution_count": 16,
   "metadata": {},
   "outputs": [
    {
     "name": "stdout",
     "output_type": "stream",
     "text": [
      "['.DS_Store', 'output_image_0.tif', 'output_image_1.tif', 'output_image_2.tif', 'output_image_3.tif', 'output_image_4.tif', 'output_image_5.tif', 'output_image_6.tif', 'output_image_7.tif', 'output_image_8.tif', 'output_image_9.tif', 'output_image_10.tif', 'output_image_11.tif', 'output_image_12.tif', 'output_image_13.tif', 'output_image_14.tif', 'output_image_15.tif', 'output_image_16.tif', 'output_image_17.tif', 'output_image_18.tif', 'output_image_19.tif', 'output_image_20.tif', 'output_image_21.tif', 'output_image_22.tif', 'output_image_23.tif', 'output_image_24.tif', 'output_image_25.tif', 'output_image_26.tif', 'output_image_27.tif', 'output_image_28.tif', 'output_image_29.tif', 'output_image_30.tif', 'output_image_31.tif', 'output_image_32.tif', 'output_image_33.tif', 'output_image_34.tif', 'output_image_35.tif', 'output_image_36.tif', 'output_image_37.tif', 'output_image_38.tif', 'output_image_39.tif', 'output_image_40.tif', 'output_image_41.tif', 'output_image_42.tif', 'output_image_43.tif', 'output_image_44.tif', 'output_image_45.tif', 'output_image_46.tif', 'output_image_47.tif', 'output_image_48.tif', 'output_image_49.tif', 'output_image_50.tif', 'output_image_51.tif', 'output_image_52.tif', 'output_image_53.tif', 'output_image_54.tif', 'output_image_55.tif', 'output_image_56.tif', 'output_image_57.tif', 'output_image_58.tif', 'output_image_59.tif', 'output_image_60.tif', 'output_image_61.tif', 'output_image_62.tif', 'output_image_63.tif', 'output_image_64.tif', 'output_image_65.tif', 'output_image_66.tif', 'output_image_67.tif', 'output_image_68.tif', 'output_image_69.tif', 'output_image_70.tif', 'output_image_71.tif', 'output_image_72.tif', 'output_image_73.tif', 'output_image_74.tif', 'output_image_75.tif', 'output_image_76.tif', 'output_image_77.tif', 'output_image_78.tif', 'output_image_79.tif', 'output_image_80.tif', 'output_image_81.tif', 'output_image_82.tif', 'output_image_83.tif', 'output_image_84.tif', 'output_image_85.tif', 'output_image_86.tif', 'output_image_87.tif', 'output_image_88.tif', 'output_image_89.tif', 'output_image_90.tif', 'output_image_91.tif', 'output_image_92.tif', 'output_image_93.tif', 'output_image_94.tif', 'output_image_95.tif', 'output_image_96.tif', 'output_image_97.tif', 'output_image_98.tif', 'output_image_99.tif', 'output_image_100.tif', 'output_image_101.tif', 'output_image_102.tif', 'output_image_103.tif', 'output_image_104.tif', 'output_image_105.tif', 'output_image_106.tif', 'output_image_107.tif', 'output_image_108.tif', 'output_image_109.tif', 'output_image_110.tif', 'output_image_111.tif', 'output_image_112.tif', 'output_image_113.tif', 'output_image_114.tif', 'output_image_115.tif', 'output_image_116.tif', 'output_image_117.tif', 'output_image_118.tif', 'output_image_119.tif', 'output_image_120.tif', 'output_image_121.tif', 'output_image_122.tif', 'output_image_123.tif', 'output_image_124.tif', 'output_image_125.tif', 'output_image_126.tif', 'output_image_127.tif', 'output_image_128.tif', 'output_image_129.tif', 'output_image_130.tif', 'output_image_131.tif', 'output_image_132.tif', 'output_image_133.tif', 'output_image_134.tif', 'output_image_135.tif', 'output_image_136.tif', 'output_image_137.tif', 'output_video.mp4']\n"
     ]
    },
    {
     "ename": "FileNotFoundError",
     "evalue": "[Errno 2] No such file or directory: 'ffmpeg'",
     "output_type": "error",
     "traceback": [
      "\u001b[0;31m---------------------------------------------------------------------------\u001b[0m",
      "\u001b[0;31mFileNotFoundError\u001b[0m                         Traceback (most recent call last)",
      "\u001b[1;32m/Users/sherryyang/Projects/super-segger-tracker/[tool]_make_video_etc.ipynb Cell 6\u001b[0m line \u001b[0;36m1\n\u001b[0;32m----> <a href='vscode-notebook-cell:/Users/sherryyang/Projects/super-segger-tracker/%5Btool%5D_make_video_etc.ipynb#W4sZmlsZQ%3D%3D?line=0'>1</a>\u001b[0m make_video(\u001b[39m'\u001b[39;49m\u001b[39m./output/\u001b[39;49m\u001b[39m'\u001b[39;49m)\n",
      "\u001b[1;32m/Users/sherryyang/Projects/super-segger-tracker/[tool]_make_video_etc.ipynb Cell 6\u001b[0m line \u001b[0;36m3\n\u001b[1;32m     <a href='vscode-notebook-cell:/Users/sherryyang/Projects/super-segger-tracker/%5Btool%5D_make_video_etc.ipynb#W4sZmlsZQ%3D%3D?line=17'>18</a>\u001b[0m \u001b[39m# FFmpeg command to create a high-quality MP4 video\u001b[39;00m\n\u001b[1;32m     <a href='vscode-notebook-cell:/Users/sherryyang/Projects/super-segger-tracker/%5Btool%5D_make_video_etc.ipynb#W4sZmlsZQ%3D%3D?line=18'>19</a>\u001b[0m \u001b[39m# This uses the libx264 codec with veryslow preset and crf 0 (lossless compression)\u001b[39;00m\n\u001b[1;32m     <a href='vscode-notebook-cell:/Users/sherryyang/Projects/super-segger-tracker/%5Btool%5D_make_video_etc.ipynb#W4sZmlsZQ%3D%3D?line=19'>20</a>\u001b[0m cmd \u001b[39m=\u001b[39m [\n\u001b[1;32m     <a href='vscode-notebook-cell:/Users/sherryyang/Projects/super-segger-tracker/%5Btool%5D_make_video_etc.ipynb#W4sZmlsZQ%3D%3D?line=20'>21</a>\u001b[0m     \u001b[39m'\u001b[39m\u001b[39mffmpeg\u001b[39m\u001b[39m'\u001b[39m,\n\u001b[1;32m     <a href='vscode-notebook-cell:/Users/sherryyang/Projects/super-segger-tracker/%5Btool%5D_make_video_etc.ipynb#W4sZmlsZQ%3D%3D?line=21'>22</a>\u001b[0m     \u001b[39m'\u001b[39m\u001b[39m-framerate\u001b[39m\u001b[39m'\u001b[39m, \u001b[39m'\u001b[39m\u001b[39m10\u001b[39m\u001b[39m'\u001b[39m,   \u001b[39m# 10 frames per second\u001b[39;00m\n\u001b[0;32m   (...)\u001b[0m\n\u001b[1;32m     <a href='vscode-notebook-cell:/Users/sherryyang/Projects/super-segger-tracker/%5Btool%5D_make_video_etc.ipynb#W4sZmlsZQ%3D%3D?line=26'>27</a>\u001b[0m     os\u001b[39m.\u001b[39mpath\u001b[39m.\u001b[39mjoin(image_folder, \u001b[39m'\u001b[39m\u001b[39moutput_video.mp4\u001b[39m\u001b[39m'\u001b[39m)\n\u001b[1;32m     <a href='vscode-notebook-cell:/Users/sherryyang/Projects/super-segger-tracker/%5Btool%5D_make_video_etc.ipynb#W4sZmlsZQ%3D%3D?line=27'>28</a>\u001b[0m ]\n\u001b[0;32m---> <a href='vscode-notebook-cell:/Users/sherryyang/Projects/super-segger-tracker/%5Btool%5D_make_video_etc.ipynb#W4sZmlsZQ%3D%3D?line=29'>30</a>\u001b[0m subprocess\u001b[39m.\u001b[39;49mrun(cmd)\n\u001b[1;32m     <a href='vscode-notebook-cell:/Users/sherryyang/Projects/super-segger-tracker/%5Btool%5D_make_video_etc.ipynb#W4sZmlsZQ%3D%3D?line=31'>32</a>\u001b[0m \u001b[39mprint\u001b[39m(\u001b[39mf\u001b[39m\u001b[39m\"\u001b[39m\u001b[39mVideo created successfully in \u001b[39m\u001b[39m{\u001b[39;00mos\u001b[39m.\u001b[39mpath\u001b[39m.\u001b[39mjoin(image_folder,\u001b[39m \u001b[39m\u001b[39m'\u001b[39m\u001b[39moutput_video.mp4\u001b[39m\u001b[39m'\u001b[39m)\u001b[39m}\u001b[39;00m\u001b[39m\"\u001b[39m)\n",
      "File \u001b[0;32m~/anaconda3/envs/omnipose/lib/python3.10/subprocess.py:503\u001b[0m, in \u001b[0;36mrun\u001b[0;34m(input, capture_output, timeout, check, *popenargs, **kwargs)\u001b[0m\n\u001b[1;32m    500\u001b[0m     kwargs[\u001b[39m'\u001b[39m\u001b[39mstdout\u001b[39m\u001b[39m'\u001b[39m] \u001b[39m=\u001b[39m PIPE\n\u001b[1;32m    501\u001b[0m     kwargs[\u001b[39m'\u001b[39m\u001b[39mstderr\u001b[39m\u001b[39m'\u001b[39m] \u001b[39m=\u001b[39m PIPE\n\u001b[0;32m--> 503\u001b[0m \u001b[39mwith\u001b[39;00m Popen(\u001b[39m*\u001b[39;49mpopenargs, \u001b[39m*\u001b[39;49m\u001b[39m*\u001b[39;49mkwargs) \u001b[39mas\u001b[39;00m process:\n\u001b[1;32m    504\u001b[0m     \u001b[39mtry\u001b[39;00m:\n\u001b[1;32m    505\u001b[0m         stdout, stderr \u001b[39m=\u001b[39m process\u001b[39m.\u001b[39mcommunicate(\u001b[39minput\u001b[39m, timeout\u001b[39m=\u001b[39mtimeout)\n",
      "File \u001b[0;32m~/anaconda3/envs/omnipose/lib/python3.10/subprocess.py:971\u001b[0m, in \u001b[0;36mPopen.__init__\u001b[0;34m(self, args, bufsize, executable, stdin, stdout, stderr, preexec_fn, close_fds, shell, cwd, env, universal_newlines, startupinfo, creationflags, restore_signals, start_new_session, pass_fds, user, group, extra_groups, encoding, errors, text, umask, pipesize)\u001b[0m\n\u001b[1;32m    967\u001b[0m         \u001b[39mif\u001b[39;00m \u001b[39mself\u001b[39m\u001b[39m.\u001b[39mtext_mode:\n\u001b[1;32m    968\u001b[0m             \u001b[39mself\u001b[39m\u001b[39m.\u001b[39mstderr \u001b[39m=\u001b[39m io\u001b[39m.\u001b[39mTextIOWrapper(\u001b[39mself\u001b[39m\u001b[39m.\u001b[39mstderr,\n\u001b[1;32m    969\u001b[0m                     encoding\u001b[39m=\u001b[39mencoding, errors\u001b[39m=\u001b[39merrors)\n\u001b[0;32m--> 971\u001b[0m     \u001b[39mself\u001b[39;49m\u001b[39m.\u001b[39;49m_execute_child(args, executable, preexec_fn, close_fds,\n\u001b[1;32m    972\u001b[0m                         pass_fds, cwd, env,\n\u001b[1;32m    973\u001b[0m                         startupinfo, creationflags, shell,\n\u001b[1;32m    974\u001b[0m                         p2cread, p2cwrite,\n\u001b[1;32m    975\u001b[0m                         c2pread, c2pwrite,\n\u001b[1;32m    976\u001b[0m                         errread, errwrite,\n\u001b[1;32m    977\u001b[0m                         restore_signals,\n\u001b[1;32m    978\u001b[0m                         gid, gids, uid, umask,\n\u001b[1;32m    979\u001b[0m                         start_new_session)\n\u001b[1;32m    980\u001b[0m \u001b[39mexcept\u001b[39;00m:\n\u001b[1;32m    981\u001b[0m     \u001b[39m# Cleanup if the child failed starting.\u001b[39;00m\n\u001b[1;32m    982\u001b[0m     \u001b[39mfor\u001b[39;00m f \u001b[39min\u001b[39;00m \u001b[39mfilter\u001b[39m(\u001b[39mNone\u001b[39;00m, (\u001b[39mself\u001b[39m\u001b[39m.\u001b[39mstdin, \u001b[39mself\u001b[39m\u001b[39m.\u001b[39mstdout, \u001b[39mself\u001b[39m\u001b[39m.\u001b[39mstderr)):\n",
      "File \u001b[0;32m~/anaconda3/envs/omnipose/lib/python3.10/subprocess.py:1863\u001b[0m, in \u001b[0;36mPopen._execute_child\u001b[0;34m(self, args, executable, preexec_fn, close_fds, pass_fds, cwd, env, startupinfo, creationflags, shell, p2cread, p2cwrite, c2pread, c2pwrite, errread, errwrite, restore_signals, gid, gids, uid, umask, start_new_session)\u001b[0m\n\u001b[1;32m   1861\u001b[0m     \u001b[39mif\u001b[39;00m errno_num \u001b[39m!=\u001b[39m \u001b[39m0\u001b[39m:\n\u001b[1;32m   1862\u001b[0m         err_msg \u001b[39m=\u001b[39m os\u001b[39m.\u001b[39mstrerror(errno_num)\n\u001b[0;32m-> 1863\u001b[0m     \u001b[39mraise\u001b[39;00m child_exception_type(errno_num, err_msg, err_filename)\n\u001b[1;32m   1864\u001b[0m \u001b[39mraise\u001b[39;00m child_exception_type(err_msg)\n",
      "\u001b[0;31mFileNotFoundError\u001b[0m: [Errno 2] No such file or directory: 'ffmpeg'"
     ]
    }
   ],
   "source": [
    "make_video('./output/')"
   ]
  },
  {
   "cell_type": "code",
   "execution_count": null,
   "metadata": {},
   "outputs": [],
   "source": []
  }
 ],
 "metadata": {
  "kernelspec": {
   "display_name": "omnipose",
   "language": "python",
   "name": "python3"
  },
  "language_info": {
   "codemirror_mode": {
    "name": "ipython",
    "version": 3
   },
   "file_extension": ".py",
   "mimetype": "text/x-python",
   "name": "python",
   "nbconvert_exporter": "python",
   "pygments_lexer": "ipython3",
   "version": "3.10.12"
  },
  "orig_nbformat": 4
 },
 "nbformat": 4,
 "nbformat_minor": 2
}
