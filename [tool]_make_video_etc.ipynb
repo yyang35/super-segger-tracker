{
 "cells": [
  {
   "cell_type": "code",
   "execution_count": 18,
   "metadata": {},
   "outputs": [],
   "source": [
    "import os\n",
    "import cv2\n",
    "from natsort import natsorted\n",
    "\n",
    "\n",
    "def make_video(image_folder):\n",
    "    # Get a list of image filenames sorted alphabetically\n",
    "    image_filenames = natsorted(os.listdir(image_folder))\n",
    "    print(image_filenames)\n",
    "\n",
    "    # Get the dimensions of the first image (assuming all images have the same dimensions)\n",
    "    first_image = cv2.imread(os.path.join(image_folder, image_filenames[0]))\n",
    "    height, width, layers = first_image.shape\n",
    "\n",
    "    # Define the codec and create a VideoWriter object\n",
    "    video_filename = f'{image_folder}output_video.mp4'\n",
    "    fourcc = cv2.VideoWriter_fourcc(*'mp4v')  # You can change the codec as needed\n",
    "    video = cv2.VideoWriter(video_filename, fourcc, 10, (width, height))\n",
    "\n",
    "    # Loop through the sorted image filenames and add frames to the video\n",
    "    for image_filename in image_filenames:\n",
    "        image_path = os.path.join(image_folder, image_filename)\n",
    "        frame = cv2.imread(image_path)\n",
    "        video.write(frame)\n",
    "\n",
    "    # Release the VideoWriter and close the video file\n",
    "    video.release()\n",
    "\n",
    "    print(f\"Video '{video_filename}' created successfully.\")"
   ]
  },
  {
   "cell_type": "code",
   "execution_count": 7,
   "metadata": {},
   "outputs": [],
   "source": [
    "from PIL import Image\n",
    "import os\n",
    "\n",
    "\n",
    "def make_merged_image():\n",
    "    # Get a list of image filenames sorted alphabetically\n",
    "    image_filenames = sorted(os.listdir(image_folder))\n",
    "\n",
    "    # Open the first image to get the size\n",
    "    base_image = Image.open(os.path.join(image_folder, image_filenames[0]))\n",
    "    width, height = base_image.size\n",
    "\n",
    "    # Create a new image with RGBA mode (allows transparency)\n",
    "    merged_image = Image.new('RGBA', (width, height), (0, 0, 0, 0))\n",
    "\n",
    "    # Loop through the sorted image filenames and paste each image on top of the merged image\n",
    "    for image_filename in image_filenames:\n",
    "        image_path = os.path.join(image_folder, image_filename)\n",
    "        image = Image.open(image_path)\n",
    "        merged_image = Image.alpha_composite(merged_image, image)\n",
    "\n",
    "    # Save the final overlapped image\n",
    "    merged_image.save('merged_image.png')\n",
    "\n",
    "    print(\"Merged image created successfully.\")"
   ]
  },
  {
   "cell_type": "code",
   "execution_count": 22,
   "metadata": {},
   "outputs": [
    {
     "name": "stdout",
     "output_type": "stream",
     "text": [
      "['t1-t2.png', 't2-t3.png', 't3-t4.png', 't4-t5.png', 't5-t6.png', 't6-t7.png', 't7-t8.png', 't8-t9.png', 't9-t10.png', 't10-t11.png', 't11-t12.png', 't12-t13.png', 't13-t14.png', 't14-t15.png', 't15-t16.png', 't16-t17.png', 't17-t18.png', 't18-t19.png', 't19-t20.png', 't20-t21.png', 't21-t22.png', 't22-t23.png', 't23-t24.png', 't24-t25.png', 't25-t26.png', 't26-t27.png', 't27-t28.png', 't28-t29.png']\n",
      "Video '/Users/sherryyang/Documents/wiggins-lab/data/overlap-relationship/output_video.mp4' created successfully.\n"
     ]
    }
   ],
   "source": [
    "make_video('/Users/sherryyang/Documents/wiggins-lab/data/overlap-relationship/')"
   ]
  },
  {
   "cell_type": "code",
   "execution_count": null,
   "metadata": {},
   "outputs": [],
   "source": []
  }
 ],
 "metadata": {
  "kernelspec": {
   "display_name": "omnipose",
   "language": "python",
   "name": "python3"
  },
  "language_info": {
   "codemirror_mode": {
    "name": "ipython",
    "version": 3
   },
   "file_extension": ".py",
   "mimetype": "text/x-python",
   "name": "python",
   "nbconvert_exporter": "python",
   "pygments_lexer": "ipython3",
   "version": "3.10.12"
  },
  "orig_nbformat": 4
 },
 "nbformat": 4,
 "nbformat_minor": 2
}
