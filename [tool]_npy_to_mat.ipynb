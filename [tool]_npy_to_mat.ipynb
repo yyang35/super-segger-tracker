{
 "cells": [
  {
   "cell_type": "code",
   "execution_count": 1,
   "id": "37897703",
   "metadata": {
    "is_executing": true
   },
   "outputs": [],
   "source": [
    "from scipy.io import savemat\n",
    "import numpy as np\n",
    "import glob\n",
    "import os\n",
    "npzFiles = glob.glob(\"/Users/sherryyang/wigginsLab/data/half_raw/xy0/phase/*.npy\")\n",
    "for f in npzFiles:\n",
    "    fm = os.path.splitext(f)[0]+'.mat'\n",
    "    d = np.load(f, allow_pickle=True).item()\n",
    "    savemat(fm, d)"
   ]
  },
  {
   "cell_type": "code",
   "execution_count": 10,
   "id": "fd3b8465",
   "metadata": {},
   "outputs": [
    {
     "name": "stdout",
     "output_type": "stream",
     "text": [
      "\r\n",
      "CommandNotFoundError: Your shell has not been properly configured to use 'conda activate'.\r\n",
      "To initialize your shell, run\r\n",
      "\r\n",
      "    $ conda init <SHELL_NAME>\r\n",
      "\r\n",
      "Currently supported shells are:\r\n",
      "  - bash\r\n",
      "  - fish\r\n",
      "  - tcsh\r\n",
      "  - xonsh\r\n",
      "  - zsh\r\n",
      "  - powershell\r\n",
      "\r\n",
      "See 'conda init --help' for more information and options.\r\n",
      "\r\n",
      "IMPORTANT: You may need to close and restart your shell after running 'conda init'.\r\n",
      "\r\n",
      "\r\n"
     ]
    }
   ],
   "source": [
    "! conda activate omnipose"
   ]
  },
  {
   "cell_type": "code",
   "execution_count": 3,
   "id": "f4f787ee",
   "metadata": {},
   "outputs": [
    {
     "name": "stdout",
     "output_type": "stream",
     "text": [
      "/Users/sherryyang/wigginsLab/data/0709/xy0/phase/211121_37C_10_1176_HU_timelapse002_prob211203_HU_t00011xy0c1_seg.npy\n",
      "/Users/sherryyang/wigginsLab/data/0709/xy0/phase/211121_37C_10_1176_HU_timelapse002_prob211203_HU_t00016xy0c1_seg.npy\n",
      "/Users/sherryyang/wigginsLab/data/0709/xy0/phase/211121_37C_10_1176_HU_timelapse002_prob211203_HU_t00003xy0c1_seg.npy\n",
      "/Users/sherryyang/wigginsLab/data/0709/xy0/phase/211121_37C_10_1176_HU_timelapse002_prob211203_HU_t00004xy0c1_seg.npy\n",
      "/Users/sherryyang/wigginsLab/data/0709/xy0/phase/211121_37C_10_1176_HU_timelapse002_prob211203_HU_t00032xy0c1_seg.npy\n",
      "/Users/sherryyang/wigginsLab/data/0709/xy0/phase/211121_37C_10_1176_HU_timelapse002_prob211203_HU_t00020xy0c1_seg.npy\n",
      "/Users/sherryyang/wigginsLab/data/0709/xy0/phase/211121_37C_10_1176_HU_timelapse002_prob211203_HU_t00027xy0c1_seg.npy\n",
      "/Users/sherryyang/wigginsLab/data/0709/xy0/phase/211121_37C_10_1176_HU_timelapse002_prob211203_HU_t00005xy0c1_seg.npy\n",
      "/Users/sherryyang/wigginsLab/data/0709/xy0/phase/211121_37C_10_1176_HU_timelapse002_prob211203_HU_t00002xy0c1_seg.npy\n",
      "/Users/sherryyang/wigginsLab/data/0709/xy0/phase/211121_37C_10_1176_HU_timelapse002_prob211203_HU_t00017xy0c1_seg.npy\n",
      "/Users/sherryyang/wigginsLab/data/0709/xy0/phase/211121_37C_10_1176_HU_timelapse002_prob211203_HU_t00010xy0c1_seg.npy\n",
      "/Users/sherryyang/wigginsLab/data/0709/xy0/phase/211121_37C_10_1176_HU_timelapse002_prob211203_HU_t00026xy0c1_seg.npy\n",
      "/Users/sherryyang/wigginsLab/data/0709/xy0/phase/211121_37C_10_1176_HU_timelapse002_prob211203_HU_t00021xy0c1_seg.npy\n",
      "/Users/sherryyang/wigginsLab/data/0709/xy0/phase/211121_37C_10_1176_HU_timelapse002_prob211203_HU_t00033xy0c1_seg.npy\n",
      "/Users/sherryyang/wigginsLab/data/0709/xy0/phase/211121_37C_10_1176_HU_timelapse002_prob211203_HU_t00008xy0c1_seg.npy\n",
      "/Users/sherryyang/wigginsLab/data/0709/xy0/phase/211121_37C_10_1176_HU_timelapse002_prob211203_HU_t00009xy0c1_seg.npy\n",
      "/Users/sherryyang/wigginsLab/data/0709/xy0/phase/211121_37C_10_1176_HU_timelapse002_prob211203_HU_t00028xy0c1_seg.npy\n",
      "/Users/sherryyang/wigginsLab/data/0709/xy0/phase/211121_37C_10_1176_HU_timelapse002_prob211203_HU_t00019xy0c1_seg.npy\n",
      "/Users/sherryyang/wigginsLab/data/0709/xy0/phase/211121_37C_10_1176_HU_timelapse002_prob211203_HU_t00029xy0c1_seg.npy\n",
      "/Users/sherryyang/wigginsLab/data/0709/xy0/phase/211121_37C_10_1176_HU_timelapse002_prob211203_HU_t00018xy0c1_seg.npy\n",
      "/Users/sherryyang/wigginsLab/data/0709/xy0/phase/211121_37C_10_1176_HU_timelapse002_prob211203_HU_t00007xy0c1_seg.npy\n",
      "/Users/sherryyang/wigginsLab/data/0709/xy0/phase/211121_37C_10_1176_HU_timelapse002_prob211203_HU_t00012xy0c1_seg.npy\n",
      "/Users/sherryyang/wigginsLab/data/0709/xy0/phase/211121_37C_10_1176_HU_timelapse002_prob211203_HU_t00015xy0c1_seg.npy\n",
      "/Users/sherryyang/wigginsLab/data/0709/xy0/phase/211121_37C_10_1176_HU_timelapse002_prob211203_HU_t00023xy0c1_seg.npy\n",
      "/Users/sherryyang/wigginsLab/data/0709/xy0/phase/211121_37C_10_1176_HU_timelapse002_prob211203_HU_t00024xy0c1_seg.npy\n",
      "/Users/sherryyang/wigginsLab/data/0709/xy0/phase/211121_37C_10_1176_HU_timelapse002_prob211203_HU_t00031xy0c1_seg.npy\n",
      "/Users/sherryyang/wigginsLab/data/0709/xy0/phase/211121_37C_10_1176_HU_timelapse002_prob211203_HU_t00036xy0c1_seg.npy\n",
      "/Users/sherryyang/wigginsLab/data/0709/xy0/phase/211121_37C_10_1176_HU_timelapse002_prob211203_HU_t00014xy0c1_seg.npy\n",
      "/Users/sherryyang/wigginsLab/data/0709/xy0/phase/211121_37C_10_1176_HU_timelapse002_prob211203_HU_t00013xy0c1_seg.npy\n",
      "/Users/sherryyang/wigginsLab/data/0709/xy0/phase/211121_37C_10_1176_HU_timelapse002_prob211203_HU_t00006xy0c1_seg.npy\n",
      "/Users/sherryyang/wigginsLab/data/0709/xy0/phase/211121_37C_10_1176_HU_timelapse002_prob211203_HU_t00001xy0c1_seg.npy\n",
      "/Users/sherryyang/wigginsLab/data/0709/xy0/phase/211121_37C_10_1176_HU_timelapse002_prob211203_HU_t00037xy0c1_seg.npy\n",
      "/Users/sherryyang/wigginsLab/data/0709/xy0/phase/211121_37C_10_1176_HU_timelapse002_prob211203_HU_t00025xy0c1_seg.npy\n",
      "/Users/sherryyang/wigginsLab/data/0709/xy0/phase/211121_37C_10_1176_HU_timelapse002_prob211203_HU_t00022xy0c1_seg.npy\n"
     ]
    }
   ],
   "source": [
    "npzFiles = glob.glob(\"/Users/sherryyang/wigginsLab/data/0709/xy0/phase/*.npy\")\n",
    "for f in npzFiles:\n",
    "    print(f)"
   ]
  },
  {
   "cell_type": "code",
   "execution_count": null,
   "id": "338c1c24",
   "metadata": {},
   "outputs": [],
   "source": []
  }
 ],
 "metadata": {
  "kernelspec": {
   "display_name": "Python 3 (ipykernel)",
   "language": "python",
   "name": "python3"
  },
  "language_info": {
   "codemirror_mode": {
    "name": "ipython",
    "version": 3
   },
   "file_extension": ".py",
   "mimetype": "text/x-python",
   "name": "python",
   "nbconvert_exporter": "python",
   "pygments_lexer": "ipython3",
   "version": "3.11.4"
  }
 },
 "nbformat": 4,
 "nbformat_minor": 5
}
